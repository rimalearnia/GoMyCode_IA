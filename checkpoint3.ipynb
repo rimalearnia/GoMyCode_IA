{
  "nbformat": 4,
  "nbformat_minor": 0,
  "metadata": {
    "colab": {
      "name": "checkpoint3.ipynb",
      "provenance": [],
      "collapsed_sections": [],
      "include_colab_link": true
    },
    "kernelspec": {
      "display_name": "Python 3",
      "name": "python3"
    }
  },
  "cells": [
    {
      "cell_type": "markdown",
      "metadata": {
        "id": "view-in-github",
        "colab_type": "text"
      },
      "source": [
        "<a href=\"https://colab.research.google.com/github/rimalearnia/test-python-skills/blob/main/checkpoint3.ipynb\" target=\"_parent\"><img src=\"https://colab.research.google.com/assets/colab-badge.svg\" alt=\"Open In Colab\"/></a>"
      ]
    },
    {
      "cell_type": "markdown",
      "metadata": {
        "id": "gI266vuEUzSF"
      },
      "source": [
        "**Preprocessing Part**\r\n"
      ]
    },
    {
      "cell_type": "markdown",
      "metadata": {
        "id": "fPzulT07VE7O"
      },
      "source": [
        "After importing the dataset using Pandas start by showing the head of the dataset"
      ]
    },
    {
      "cell_type": "code",
      "metadata": {
        "colab": {
          "base_uri": "https://localhost:8080/",
          "height": 202
        },
        "id": "ka5PtVIxpGY-",
        "outputId": "efbc936b-bde0-4375-e5e6-e8205bc55d49"
      },
      "source": [
        "import pandas as pd \r\n",
        "titanic=pd.read_csv(\"titanic-passengers.csv\",sep=\";\")\r\n",
        "titanic.head()"
      ],
      "execution_count": 1255,
      "outputs": [
        {
          "output_type": "execute_result",
          "data": {
            "text/html": [
              "<div>\n",
              "<style scoped>\n",
              "    .dataframe tbody tr th:only-of-type {\n",
              "        vertical-align: middle;\n",
              "    }\n",
              "\n",
              "    .dataframe tbody tr th {\n",
              "        vertical-align: top;\n",
              "    }\n",
              "\n",
              "    .dataframe thead th {\n",
              "        text-align: right;\n",
              "    }\n",
              "</style>\n",
              "<table border=\"1\" class=\"dataframe\">\n",
              "  <thead>\n",
              "    <tr style=\"text-align: right;\">\n",
              "      <th></th>\n",
              "      <th>PassengerId</th>\n",
              "      <th>Survived</th>\n",
              "      <th>Pclass</th>\n",
              "      <th>Name</th>\n",
              "      <th>Sex</th>\n",
              "      <th>Age</th>\n",
              "      <th>SibSp</th>\n",
              "      <th>Parch</th>\n",
              "      <th>Ticket</th>\n",
              "      <th>Fare</th>\n",
              "      <th>Cabin</th>\n",
              "      <th>Embarked</th>\n",
              "    </tr>\n",
              "  </thead>\n",
              "  <tbody>\n",
              "    <tr>\n",
              "      <th>0</th>\n",
              "      <td>343</td>\n",
              "      <td>No</td>\n",
              "      <td>2</td>\n",
              "      <td>Collander, Mr. Erik Gustaf</td>\n",
              "      <td>male</td>\n",
              "      <td>28.0</td>\n",
              "      <td>0</td>\n",
              "      <td>0</td>\n",
              "      <td>248740</td>\n",
              "      <td>13.0000</td>\n",
              "      <td>NaN</td>\n",
              "      <td>S</td>\n",
              "    </tr>\n",
              "    <tr>\n",
              "      <th>1</th>\n",
              "      <td>76</td>\n",
              "      <td>No</td>\n",
              "      <td>3</td>\n",
              "      <td>Moen, Mr. Sigurd Hansen</td>\n",
              "      <td>male</td>\n",
              "      <td>25.0</td>\n",
              "      <td>0</td>\n",
              "      <td>0</td>\n",
              "      <td>348123</td>\n",
              "      <td>7.6500</td>\n",
              "      <td>F G73</td>\n",
              "      <td>S</td>\n",
              "    </tr>\n",
              "    <tr>\n",
              "      <th>2</th>\n",
              "      <td>641</td>\n",
              "      <td>No</td>\n",
              "      <td>3</td>\n",
              "      <td>Jensen, Mr. Hans Peder</td>\n",
              "      <td>male</td>\n",
              "      <td>20.0</td>\n",
              "      <td>0</td>\n",
              "      <td>0</td>\n",
              "      <td>350050</td>\n",
              "      <td>7.8542</td>\n",
              "      <td>NaN</td>\n",
              "      <td>S</td>\n",
              "    </tr>\n",
              "    <tr>\n",
              "      <th>3</th>\n",
              "      <td>568</td>\n",
              "      <td>No</td>\n",
              "      <td>3</td>\n",
              "      <td>Palsson, Mrs. Nils (Alma Cornelia Berglund)</td>\n",
              "      <td>female</td>\n",
              "      <td>29.0</td>\n",
              "      <td>0</td>\n",
              "      <td>4</td>\n",
              "      <td>349909</td>\n",
              "      <td>21.0750</td>\n",
              "      <td>NaN</td>\n",
              "      <td>S</td>\n",
              "    </tr>\n",
              "    <tr>\n",
              "      <th>4</th>\n",
              "      <td>672</td>\n",
              "      <td>No</td>\n",
              "      <td>1</td>\n",
              "      <td>Davidson, Mr. Thornton</td>\n",
              "      <td>male</td>\n",
              "      <td>31.0</td>\n",
              "      <td>1</td>\n",
              "      <td>0</td>\n",
              "      <td>F.C. 12750</td>\n",
              "      <td>52.0000</td>\n",
              "      <td>B71</td>\n",
              "      <td>S</td>\n",
              "    </tr>\n",
              "  </tbody>\n",
              "</table>\n",
              "</div>"
            ],
            "text/plain": [
              "   PassengerId Survived  Pclass  ...     Fare  Cabin  Embarked\n",
              "0          343       No       2  ...  13.0000    NaN         S\n",
              "1           76       No       3  ...   7.6500  F G73         S\n",
              "2          641       No       3  ...   7.8542    NaN         S\n",
              "3          568       No       3  ...  21.0750    NaN         S\n",
              "4          672       No       1  ...  52.0000    B71         S\n",
              "\n",
              "[5 rows x 12 columns]"
            ]
          },
          "metadata": {
            "tags": []
          },
          "execution_count": 1255
        }
      ]
    },
    {
      "cell_type": "markdown",
      "metadata": {
        "id": "02wuYlBfUwNv"
      },
      "source": [
        "some general information about the data columns and values\r\n",
        "\r\n"
      ]
    },
    {
      "cell_type": "code",
      "metadata": {
        "colab": {
          "base_uri": "https://localhost:8080/"
        },
        "id": "i5lpoXo1XeQU",
        "outputId": "e3035fa0-2752-4358-a91c-9d9279bfd511"
      },
      "source": [
        "titanic.columns"
      ],
      "execution_count": 1256,
      "outputs": [
        {
          "output_type": "execute_result",
          "data": {
            "text/plain": [
              "Index(['PassengerId', 'Survived', 'Pclass', 'Name', 'Sex', 'Age', 'SibSp',\n",
              "       'Parch', 'Ticket', 'Fare', 'Cabin', 'Embarked'],\n",
              "      dtype='object')"
            ]
          },
          "metadata": {
            "tags": []
          },
          "execution_count": 1256
        }
      ]
    },
    {
      "cell_type": "code",
      "metadata": {
        "colab": {
          "base_uri": "https://localhost:8080/"
        },
        "id": "kiwx9gE4pU8v",
        "outputId": "9840164b-665a-48ff-cf40-ef402ce74be9"
      },
      "source": [
        "\r\n",
        "titanic.shape"
      ],
      "execution_count": 1257,
      "outputs": [
        {
          "output_type": "execute_result",
          "data": {
            "text/plain": [
              "(891, 12)"
            ]
          },
          "metadata": {
            "tags": []
          },
          "execution_count": 1257
        }
      ]
    },
    {
      "cell_type": "code",
      "metadata": {
        "colab": {
          "base_uri": "https://localhost:8080/",
          "height": 202
        },
        "id": "Ud7KQyDuJ3WJ",
        "outputId": "e8d3f3ba-9246-48b9-806b-8b8a8eea5f25"
      },
      "source": [
        "titanic.tail()"
      ],
      "execution_count": 1258,
      "outputs": [
        {
          "output_type": "execute_result",
          "data": {
            "text/html": [
              "<div>\n",
              "<style scoped>\n",
              "    .dataframe tbody tr th:only-of-type {\n",
              "        vertical-align: middle;\n",
              "    }\n",
              "\n",
              "    .dataframe tbody tr th {\n",
              "        vertical-align: top;\n",
              "    }\n",
              "\n",
              "    .dataframe thead th {\n",
              "        text-align: right;\n",
              "    }\n",
              "</style>\n",
              "<table border=\"1\" class=\"dataframe\">\n",
              "  <thead>\n",
              "    <tr style=\"text-align: right;\">\n",
              "      <th></th>\n",
              "      <th>PassengerId</th>\n",
              "      <th>Survived</th>\n",
              "      <th>Pclass</th>\n",
              "      <th>Name</th>\n",
              "      <th>Sex</th>\n",
              "      <th>Age</th>\n",
              "      <th>SibSp</th>\n",
              "      <th>Parch</th>\n",
              "      <th>Ticket</th>\n",
              "      <th>Fare</th>\n",
              "      <th>Cabin</th>\n",
              "      <th>Embarked</th>\n",
              "    </tr>\n",
              "  </thead>\n",
              "  <tbody>\n",
              "    <tr>\n",
              "      <th>886</th>\n",
              "      <td>10</td>\n",
              "      <td>Yes</td>\n",
              "      <td>2</td>\n",
              "      <td>Nasser, Mrs. Nicholas (Adele Achem)</td>\n",
              "      <td>female</td>\n",
              "      <td>14.0</td>\n",
              "      <td>1</td>\n",
              "      <td>0</td>\n",
              "      <td>237736</td>\n",
              "      <td>30.0708</td>\n",
              "      <td>NaN</td>\n",
              "      <td>C</td>\n",
              "    </tr>\n",
              "    <tr>\n",
              "      <th>887</th>\n",
              "      <td>61</td>\n",
              "      <td>No</td>\n",
              "      <td>3</td>\n",
              "      <td>Sirayanian, Mr. Orsen</td>\n",
              "      <td>male</td>\n",
              "      <td>22.0</td>\n",
              "      <td>0</td>\n",
              "      <td>0</td>\n",
              "      <td>2669</td>\n",
              "      <td>7.2292</td>\n",
              "      <td>NaN</td>\n",
              "      <td>C</td>\n",
              "    </tr>\n",
              "    <tr>\n",
              "      <th>888</th>\n",
              "      <td>535</td>\n",
              "      <td>No</td>\n",
              "      <td>3</td>\n",
              "      <td>Cacic, Miss. Marija</td>\n",
              "      <td>female</td>\n",
              "      <td>30.0</td>\n",
              "      <td>0</td>\n",
              "      <td>0</td>\n",
              "      <td>315084</td>\n",
              "      <td>8.6625</td>\n",
              "      <td>NaN</td>\n",
              "      <td>S</td>\n",
              "    </tr>\n",
              "    <tr>\n",
              "      <th>889</th>\n",
              "      <td>102</td>\n",
              "      <td>No</td>\n",
              "      <td>3</td>\n",
              "      <td>Petroff, Mr. Pastcho (\"Pentcho\")</td>\n",
              "      <td>male</td>\n",
              "      <td>NaN</td>\n",
              "      <td>0</td>\n",
              "      <td>0</td>\n",
              "      <td>349215</td>\n",
              "      <td>7.8958</td>\n",
              "      <td>NaN</td>\n",
              "      <td>S</td>\n",
              "    </tr>\n",
              "    <tr>\n",
              "      <th>890</th>\n",
              "      <td>428</td>\n",
              "      <td>Yes</td>\n",
              "      <td>2</td>\n",
              "      <td>Phillips, Miss. Kate Florence (\"Mrs Kate Louis...</td>\n",
              "      <td>female</td>\n",
              "      <td>19.0</td>\n",
              "      <td>0</td>\n",
              "      <td>0</td>\n",
              "      <td>250655</td>\n",
              "      <td>26.0000</td>\n",
              "      <td>NaN</td>\n",
              "      <td>S</td>\n",
              "    </tr>\n",
              "  </tbody>\n",
              "</table>\n",
              "</div>"
            ],
            "text/plain": [
              "     PassengerId Survived  Pclass  ...     Fare Cabin  Embarked\n",
              "886           10      Yes       2  ...  30.0708   NaN         C\n",
              "887           61       No       3  ...   7.2292   NaN         C\n",
              "888          535       No       3  ...   8.6625   NaN         S\n",
              "889          102       No       3  ...   7.8958   NaN         S\n",
              "890          428      Yes       2  ...  26.0000   NaN         S\n",
              "\n",
              "[5 rows x 12 columns]"
            ]
          },
          "metadata": {
            "tags": []
          },
          "execution_count": 1258
        }
      ]
    },
    {
      "cell_type": "code",
      "metadata": {
        "colab": {
          "base_uri": "https://localhost:8080/"
        },
        "id": "DMgHackrLAqN",
        "outputId": "121e9232-c0c1-4e30-b596-9cef5d8422ff"
      },
      "source": [
        "titanic.info()"
      ],
      "execution_count": 1259,
      "outputs": [
        {
          "output_type": "stream",
          "text": [
            "<class 'pandas.core.frame.DataFrame'>\n",
            "RangeIndex: 891 entries, 0 to 890\n",
            "Data columns (total 12 columns):\n",
            " #   Column       Non-Null Count  Dtype  \n",
            "---  ------       --------------  -----  \n",
            " 0   PassengerId  891 non-null    int64  \n",
            " 1   Survived     891 non-null    object \n",
            " 2   Pclass       891 non-null    int64  \n",
            " 3   Name         891 non-null    object \n",
            " 4   Sex          891 non-null    object \n",
            " 5   Age          714 non-null    float64\n",
            " 6   SibSp        891 non-null    int64  \n",
            " 7   Parch        891 non-null    int64  \n",
            " 8   Ticket       891 non-null    object \n",
            " 9   Fare         891 non-null    float64\n",
            " 10  Cabin        204 non-null    object \n",
            " 11  Embarked     889 non-null    object \n",
            "dtypes: float64(2), int64(4), object(6)\n",
            "memory usage: 83.7+ KB\n"
          ],
          "name": "stdout"
        }
      ]
    },
    {
      "cell_type": "code",
      "metadata": {
        "colab": {
          "base_uri": "https://localhost:8080/",
          "height": 294
        },
        "id": "c2-abYYo_odQ",
        "outputId": "141d04e9-a51f-4eec-bc3a-faffe5ded76e"
      },
      "source": [
        "titanic.describe()"
      ],
      "execution_count": 1260,
      "outputs": [
        {
          "output_type": "execute_result",
          "data": {
            "text/html": [
              "<div>\n",
              "<style scoped>\n",
              "    .dataframe tbody tr th:only-of-type {\n",
              "        vertical-align: middle;\n",
              "    }\n",
              "\n",
              "    .dataframe tbody tr th {\n",
              "        vertical-align: top;\n",
              "    }\n",
              "\n",
              "    .dataframe thead th {\n",
              "        text-align: right;\n",
              "    }\n",
              "</style>\n",
              "<table border=\"1\" class=\"dataframe\">\n",
              "  <thead>\n",
              "    <tr style=\"text-align: right;\">\n",
              "      <th></th>\n",
              "      <th>PassengerId</th>\n",
              "      <th>Pclass</th>\n",
              "      <th>Age</th>\n",
              "      <th>SibSp</th>\n",
              "      <th>Parch</th>\n",
              "      <th>Fare</th>\n",
              "    </tr>\n",
              "  </thead>\n",
              "  <tbody>\n",
              "    <tr>\n",
              "      <th>count</th>\n",
              "      <td>891.000000</td>\n",
              "      <td>891.000000</td>\n",
              "      <td>714.000000</td>\n",
              "      <td>891.000000</td>\n",
              "      <td>891.000000</td>\n",
              "      <td>891.000000</td>\n",
              "    </tr>\n",
              "    <tr>\n",
              "      <th>mean</th>\n",
              "      <td>446.000000</td>\n",
              "      <td>2.308642</td>\n",
              "      <td>29.699118</td>\n",
              "      <td>0.523008</td>\n",
              "      <td>0.381594</td>\n",
              "      <td>32.204208</td>\n",
              "    </tr>\n",
              "    <tr>\n",
              "      <th>std</th>\n",
              "      <td>257.353842</td>\n",
              "      <td>0.836071</td>\n",
              "      <td>14.526497</td>\n",
              "      <td>1.102743</td>\n",
              "      <td>0.806057</td>\n",
              "      <td>49.693429</td>\n",
              "    </tr>\n",
              "    <tr>\n",
              "      <th>min</th>\n",
              "      <td>1.000000</td>\n",
              "      <td>1.000000</td>\n",
              "      <td>0.420000</td>\n",
              "      <td>0.000000</td>\n",
              "      <td>0.000000</td>\n",
              "      <td>0.000000</td>\n",
              "    </tr>\n",
              "    <tr>\n",
              "      <th>25%</th>\n",
              "      <td>223.500000</td>\n",
              "      <td>2.000000</td>\n",
              "      <td>20.125000</td>\n",
              "      <td>0.000000</td>\n",
              "      <td>0.000000</td>\n",
              "      <td>7.910400</td>\n",
              "    </tr>\n",
              "    <tr>\n",
              "      <th>50%</th>\n",
              "      <td>446.000000</td>\n",
              "      <td>3.000000</td>\n",
              "      <td>28.000000</td>\n",
              "      <td>0.000000</td>\n",
              "      <td>0.000000</td>\n",
              "      <td>14.454200</td>\n",
              "    </tr>\n",
              "    <tr>\n",
              "      <th>75%</th>\n",
              "      <td>668.500000</td>\n",
              "      <td>3.000000</td>\n",
              "      <td>38.000000</td>\n",
              "      <td>1.000000</td>\n",
              "      <td>0.000000</td>\n",
              "      <td>31.000000</td>\n",
              "    </tr>\n",
              "    <tr>\n",
              "      <th>max</th>\n",
              "      <td>891.000000</td>\n",
              "      <td>3.000000</td>\n",
              "      <td>80.000000</td>\n",
              "      <td>8.000000</td>\n",
              "      <td>6.000000</td>\n",
              "      <td>512.329200</td>\n",
              "    </tr>\n",
              "  </tbody>\n",
              "</table>\n",
              "</div>"
            ],
            "text/plain": [
              "       PassengerId      Pclass         Age       SibSp       Parch        Fare\n",
              "count   891.000000  891.000000  714.000000  891.000000  891.000000  891.000000\n",
              "mean    446.000000    2.308642   29.699118    0.523008    0.381594   32.204208\n",
              "std     257.353842    0.836071   14.526497    1.102743    0.806057   49.693429\n",
              "min       1.000000    1.000000    0.420000    0.000000    0.000000    0.000000\n",
              "25%     223.500000    2.000000   20.125000    0.000000    0.000000    7.910400\n",
              "50%     446.000000    3.000000   28.000000    0.000000    0.000000   14.454200\n",
              "75%     668.500000    3.000000   38.000000    1.000000    0.000000   31.000000\n",
              "max     891.000000    3.000000   80.000000    8.000000    6.000000  512.329200"
            ]
          },
          "metadata": {
            "tags": []
          },
          "execution_count": 1260
        }
      ]
    },
    {
      "cell_type": "markdown",
      "metadata": {
        "id": "USoGGTuIVraP"
      },
      "source": [
        "find missing informations "
      ]
    },
    {
      "cell_type": "code",
      "metadata": {
        "colab": {
          "base_uri": "https://localhost:8080/"
        },
        "id": "txlBslSI_5Yz",
        "outputId": "811525f3-28d0-4fb5-ee56-7c953322542a"
      },
      "source": [
        "print(titanic['Age'].head())\r\n",
        "print(titanic['Age'].head().isnull())"
      ],
      "execution_count": 1261,
      "outputs": [
        {
          "output_type": "stream",
          "text": [
            "0    28.0\n",
            "1    25.0\n",
            "2    20.0\n",
            "3    29.0\n",
            "4    31.0\n",
            "Name: Age, dtype: float64\n",
            "0    False\n",
            "1    False\n",
            "2    False\n",
            "3    False\n",
            "4    False\n",
            "Name: Age, dtype: bool\n"
          ],
          "name": "stdout"
        }
      ]
    },
    {
      "cell_type": "code",
      "metadata": {
        "colab": {
          "base_uri": "https://localhost:8080/"
        },
        "id": "LpsqQMH_AOCJ",
        "outputId": "7d38463f-d62c-47ff-92b0-d4f98fdf03fc"
      },
      "source": [
        "\r\n",
        "titanic.isnull().sum().sum()"
      ],
      "execution_count": 1262,
      "outputs": [
        {
          "output_type": "execute_result",
          "data": {
            "text/plain": [
              "866"
            ]
          },
          "metadata": {
            "tags": []
          },
          "execution_count": 1262
        }
      ]
    },
    {
      "cell_type": "code",
      "metadata": {
        "colab": {
          "base_uri": "https://localhost:8080/"
        },
        "id": "_W82SJNx89Fw",
        "outputId": "e255f247-4f27-4961-f62b-801180b39750"
      },
      "source": [
        "titanic.isnull().sum()"
      ],
      "execution_count": 1263,
      "outputs": [
        {
          "output_type": "execute_result",
          "data": {
            "text/plain": [
              "PassengerId      0\n",
              "Survived         0\n",
              "Pclass           0\n",
              "Name             0\n",
              "Sex              0\n",
              "Age            177\n",
              "SibSp            0\n",
              "Parch            0\n",
              "Ticket           0\n",
              "Fare             0\n",
              "Cabin          687\n",
              "Embarked         2\n",
              "dtype: int64"
            ]
          },
          "metadata": {
            "tags": []
          },
          "execution_count": 1263
        }
      ]
    },
    {
      "cell_type": "markdown",
      "metadata": {
        "id": "rkEYTZtKVwc-"
      },
      "source": [
        "replace them by the appropriate values."
      ]
    },
    {
      "cell_type": "code",
      "metadata": {
        "colab": {
          "base_uri": "https://localhost:8080/",
          "height": 202
        },
        "id": "VRCzEQ03BEtX",
        "outputId": "4cc11273-5b7c-4aee-99b2-3982b2f742c1"
      },
      "source": [
        "titanic1 =titanic.drop(['PassengerId','Cabin'],axis=1,inplace=True)\r\n",
        "titanic1=titanic.dropna(axis=0,how='any',thresh=None,inplace=False)\r\n",
        "titanic1.head()"
      ],
      "execution_count": 1264,
      "outputs": [
        {
          "output_type": "execute_result",
          "data": {
            "text/html": [
              "<div>\n",
              "<style scoped>\n",
              "    .dataframe tbody tr th:only-of-type {\n",
              "        vertical-align: middle;\n",
              "    }\n",
              "\n",
              "    .dataframe tbody tr th {\n",
              "        vertical-align: top;\n",
              "    }\n",
              "\n",
              "    .dataframe thead th {\n",
              "        text-align: right;\n",
              "    }\n",
              "</style>\n",
              "<table border=\"1\" class=\"dataframe\">\n",
              "  <thead>\n",
              "    <tr style=\"text-align: right;\">\n",
              "      <th></th>\n",
              "      <th>Survived</th>\n",
              "      <th>Pclass</th>\n",
              "      <th>Name</th>\n",
              "      <th>Sex</th>\n",
              "      <th>Age</th>\n",
              "      <th>SibSp</th>\n",
              "      <th>Parch</th>\n",
              "      <th>Ticket</th>\n",
              "      <th>Fare</th>\n",
              "      <th>Embarked</th>\n",
              "    </tr>\n",
              "  </thead>\n",
              "  <tbody>\n",
              "    <tr>\n",
              "      <th>0</th>\n",
              "      <td>No</td>\n",
              "      <td>2</td>\n",
              "      <td>Collander, Mr. Erik Gustaf</td>\n",
              "      <td>male</td>\n",
              "      <td>28.0</td>\n",
              "      <td>0</td>\n",
              "      <td>0</td>\n",
              "      <td>248740</td>\n",
              "      <td>13.0000</td>\n",
              "      <td>S</td>\n",
              "    </tr>\n",
              "    <tr>\n",
              "      <th>1</th>\n",
              "      <td>No</td>\n",
              "      <td>3</td>\n",
              "      <td>Moen, Mr. Sigurd Hansen</td>\n",
              "      <td>male</td>\n",
              "      <td>25.0</td>\n",
              "      <td>0</td>\n",
              "      <td>0</td>\n",
              "      <td>348123</td>\n",
              "      <td>7.6500</td>\n",
              "      <td>S</td>\n",
              "    </tr>\n",
              "    <tr>\n",
              "      <th>2</th>\n",
              "      <td>No</td>\n",
              "      <td>3</td>\n",
              "      <td>Jensen, Mr. Hans Peder</td>\n",
              "      <td>male</td>\n",
              "      <td>20.0</td>\n",
              "      <td>0</td>\n",
              "      <td>0</td>\n",
              "      <td>350050</td>\n",
              "      <td>7.8542</td>\n",
              "      <td>S</td>\n",
              "    </tr>\n",
              "    <tr>\n",
              "      <th>3</th>\n",
              "      <td>No</td>\n",
              "      <td>3</td>\n",
              "      <td>Palsson, Mrs. Nils (Alma Cornelia Berglund)</td>\n",
              "      <td>female</td>\n",
              "      <td>29.0</td>\n",
              "      <td>0</td>\n",
              "      <td>4</td>\n",
              "      <td>349909</td>\n",
              "      <td>21.0750</td>\n",
              "      <td>S</td>\n",
              "    </tr>\n",
              "    <tr>\n",
              "      <th>4</th>\n",
              "      <td>No</td>\n",
              "      <td>1</td>\n",
              "      <td>Davidson, Mr. Thornton</td>\n",
              "      <td>male</td>\n",
              "      <td>31.0</td>\n",
              "      <td>1</td>\n",
              "      <td>0</td>\n",
              "      <td>F.C. 12750</td>\n",
              "      <td>52.0000</td>\n",
              "      <td>S</td>\n",
              "    </tr>\n",
              "  </tbody>\n",
              "</table>\n",
              "</div>"
            ],
            "text/plain": [
              "  Survived  Pclass  ...     Fare Embarked\n",
              "0       No       2  ...  13.0000        S\n",
              "1       No       3  ...   7.6500        S\n",
              "2       No       3  ...   7.8542        S\n",
              "3       No       3  ...  21.0750        S\n",
              "4       No       1  ...  52.0000        S\n",
              "\n",
              "[5 rows x 10 columns]"
            ]
          },
          "metadata": {
            "tags": []
          },
          "execution_count": 1264
        }
      ]
    },
    {
      "cell_type": "code",
      "metadata": {
        "colab": {
          "base_uri": "https://localhost:8080/"
        },
        "id": "GHBwMpX6BnxH",
        "outputId": "cb670d02-3144-4d85-bfa4-f275cadbcd74"
      },
      "source": [
        "titanic1.shape"
      ],
      "execution_count": 1265,
      "outputs": [
        {
          "output_type": "execute_result",
          "data": {
            "text/plain": [
              "(712, 10)"
            ]
          },
          "metadata": {
            "tags": []
          },
          "execution_count": 1265
        }
      ]
    },
    {
      "cell_type": "code",
      "metadata": {
        "id": "M-XgQZHXCMin"
      },
      "source": [
        "titanic[\"Age\"].fillna(titanic[\"Age\"].mean(),inplace=True)"
      ],
      "execution_count": 1266,
      "outputs": []
    },
    {
      "cell_type": "code",
      "metadata": {
        "colab": {
          "base_uri": "https://localhost:8080/"
        },
        "id": "xx4dhosXhJk6",
        "outputId": "a6119a8a-a703-4c41-a7e8-905fd501c922"
      },
      "source": [
        "titanic1[\"Survived\"].value_counts()"
      ],
      "execution_count": 1267,
      "outputs": [
        {
          "output_type": "execute_result",
          "data": {
            "text/plain": [
              "No     424\n",
              "Yes    288\n",
              "Name: Survived, dtype: int64"
            ]
          },
          "metadata": {
            "tags": []
          },
          "execution_count": 1267
        }
      ]
    },
    {
      "cell_type": "code",
      "metadata": {
        "colab": {
          "base_uri": "https://localhost:8080/"
        },
        "id": "flMy4C6J8vKO",
        "outputId": "d2bda4ef-1176-4cdd-ae13-27dc3b115e4f"
      },
      "source": [
        "titanic1[\"Pclass\"].value_counts()"
      ],
      "execution_count": 1268,
      "outputs": [
        {
          "output_type": "stream",
          "text": [
            "/usr/local/lib/python3.7/dist-packages/IPython/core/displayhook.py:260: UserWarning: Output cache limit (currently 1000 entries) hit.\n",
            "Flushing oldest 200 entries.\n",
            "  'Flushing oldest {cull_count} entries.'.format(sz=sz, cull_count=cull_count))\n"
          ],
          "name": "stderr"
        },
        {
          "output_type": "execute_result",
          "data": {
            "text/plain": [
              "3    355\n",
              "1    184\n",
              "2    173\n",
              "Name: Pclass, dtype: int64"
            ]
          },
          "metadata": {
            "tags": []
          },
          "execution_count": 1268
        }
      ]
    },
    {
      "cell_type": "code",
      "metadata": {
        "colab": {
          "base_uri": "https://localhost:8080/"
        },
        "id": "yVJ_65AF86Am",
        "outputId": "1818a42f-b4ed-4f4c-85a3-59a808bf188f"
      },
      "source": [
        "titanic1[\"Sex\"].value_counts()"
      ],
      "execution_count": 1269,
      "outputs": [
        {
          "output_type": "execute_result",
          "data": {
            "text/plain": [
              "male      453\n",
              "female    259\n",
              "Name: Sex, dtype: int64"
            ]
          },
          "metadata": {
            "tags": []
          },
          "execution_count": 1269
        }
      ]
    },
    {
      "cell_type": "markdown",
      "metadata": {
        "id": "5zvJbUtBV_RJ"
      },
      "source": [
        "Verify that your data is ready to be treated."
      ]
    },
    {
      "cell_type": "code",
      "metadata": {
        "colab": {
          "base_uri": "https://localhost:8080/"
        },
        "id": "b3bYl4yBGRYX",
        "outputId": "92394cff-0ddb-4fee-f343-dcdc51ace0cc"
      },
      "source": [
        "titanic1[\"Age\"].isnull().sum()"
      ],
      "execution_count": 1270,
      "outputs": [
        {
          "output_type": "execute_result",
          "data": {
            "text/plain": [
              "0"
            ]
          },
          "metadata": {
            "tags": []
          },
          "execution_count": 1270
        }
      ]
    },
    {
      "cell_type": "code",
      "metadata": {
        "colab": {
          "base_uri": "https://localhost:8080/",
          "height": 306
        },
        "id": "jCTQMYqU7lwk",
        "outputId": "fe5f8c0b-4d83-4631-e77d-e4519d9d9950"
      },
      "source": [
        "from sklearn.preprocessing import LabelEncoder\r\n",
        "encoder=LabelEncoder()\r\n",
        "titanic1['Survived']=encoder.fit_transform(titanic1[\"Survived\"])\r\n",
        "titanic1.head()"
      ],
      "execution_count": 1271,
      "outputs": [
        {
          "output_type": "stream",
          "text": [
            "/usr/local/lib/python3.7/dist-packages/ipykernel_launcher.py:3: SettingWithCopyWarning: \n",
            "A value is trying to be set on a copy of a slice from a DataFrame.\n",
            "Try using .loc[row_indexer,col_indexer] = value instead\n",
            "\n",
            "See the caveats in the documentation: https://pandas.pydata.org/pandas-docs/stable/user_guide/indexing.html#returning-a-view-versus-a-copy\n",
            "  This is separate from the ipykernel package so we can avoid doing imports until\n"
          ],
          "name": "stderr"
        },
        {
          "output_type": "execute_result",
          "data": {
            "text/html": [
              "<div>\n",
              "<style scoped>\n",
              "    .dataframe tbody tr th:only-of-type {\n",
              "        vertical-align: middle;\n",
              "    }\n",
              "\n",
              "    .dataframe tbody tr th {\n",
              "        vertical-align: top;\n",
              "    }\n",
              "\n",
              "    .dataframe thead th {\n",
              "        text-align: right;\n",
              "    }\n",
              "</style>\n",
              "<table border=\"1\" class=\"dataframe\">\n",
              "  <thead>\n",
              "    <tr style=\"text-align: right;\">\n",
              "      <th></th>\n",
              "      <th>Survived</th>\n",
              "      <th>Pclass</th>\n",
              "      <th>Name</th>\n",
              "      <th>Sex</th>\n",
              "      <th>Age</th>\n",
              "      <th>SibSp</th>\n",
              "      <th>Parch</th>\n",
              "      <th>Ticket</th>\n",
              "      <th>Fare</th>\n",
              "      <th>Embarked</th>\n",
              "    </tr>\n",
              "  </thead>\n",
              "  <tbody>\n",
              "    <tr>\n",
              "      <th>0</th>\n",
              "      <td>0</td>\n",
              "      <td>2</td>\n",
              "      <td>Collander, Mr. Erik Gustaf</td>\n",
              "      <td>male</td>\n",
              "      <td>28.0</td>\n",
              "      <td>0</td>\n",
              "      <td>0</td>\n",
              "      <td>248740</td>\n",
              "      <td>13.0000</td>\n",
              "      <td>S</td>\n",
              "    </tr>\n",
              "    <tr>\n",
              "      <th>1</th>\n",
              "      <td>0</td>\n",
              "      <td>3</td>\n",
              "      <td>Moen, Mr. Sigurd Hansen</td>\n",
              "      <td>male</td>\n",
              "      <td>25.0</td>\n",
              "      <td>0</td>\n",
              "      <td>0</td>\n",
              "      <td>348123</td>\n",
              "      <td>7.6500</td>\n",
              "      <td>S</td>\n",
              "    </tr>\n",
              "    <tr>\n",
              "      <th>2</th>\n",
              "      <td>0</td>\n",
              "      <td>3</td>\n",
              "      <td>Jensen, Mr. Hans Peder</td>\n",
              "      <td>male</td>\n",
              "      <td>20.0</td>\n",
              "      <td>0</td>\n",
              "      <td>0</td>\n",
              "      <td>350050</td>\n",
              "      <td>7.8542</td>\n",
              "      <td>S</td>\n",
              "    </tr>\n",
              "    <tr>\n",
              "      <th>3</th>\n",
              "      <td>0</td>\n",
              "      <td>3</td>\n",
              "      <td>Palsson, Mrs. Nils (Alma Cornelia Berglund)</td>\n",
              "      <td>female</td>\n",
              "      <td>29.0</td>\n",
              "      <td>0</td>\n",
              "      <td>4</td>\n",
              "      <td>349909</td>\n",
              "      <td>21.0750</td>\n",
              "      <td>S</td>\n",
              "    </tr>\n",
              "    <tr>\n",
              "      <th>4</th>\n",
              "      <td>0</td>\n",
              "      <td>1</td>\n",
              "      <td>Davidson, Mr. Thornton</td>\n",
              "      <td>male</td>\n",
              "      <td>31.0</td>\n",
              "      <td>1</td>\n",
              "      <td>0</td>\n",
              "      <td>F.C. 12750</td>\n",
              "      <td>52.0000</td>\n",
              "      <td>S</td>\n",
              "    </tr>\n",
              "  </tbody>\n",
              "</table>\n",
              "</div>"
            ],
            "text/plain": [
              "   Survived  Pclass  ...     Fare Embarked\n",
              "0         0       2  ...  13.0000        S\n",
              "1         0       3  ...   7.6500        S\n",
              "2         0       3  ...   7.8542        S\n",
              "3         0       3  ...  21.0750        S\n",
              "4         0       1  ...  52.0000        S\n",
              "\n",
              "[5 rows x 10 columns]"
            ]
          },
          "metadata": {
            "tags": []
          },
          "execution_count": 1271
        }
      ]
    },
    {
      "cell_type": "markdown",
      "metadata": {
        "id": "7Cc4SOo8Z00S"
      },
      "source": [
        "**Visualization part**"
      ]
    },
    {
      "cell_type": "markdown",
      "metadata": {
        "id": "WiRvo8uSZ4yu"
      },
      "source": [
        "Start by studying the distribution of the most important features "
      ]
    },
    {
      "cell_type": "code",
      "metadata": {
        "colab": {
          "base_uri": "https://localhost:8080/",
          "height": 312
        },
        "id": "HQgiAh67Yhx3",
        "outputId": "8570162a-77de-4242-ed57-268a814622af"
      },
      "source": [
        "import matplotlib.pyplot as plt\r\n",
        "plt.title(\"Histogram of different ages\")\r\n",
        "plt.xlabel(\"Age\")\r\n",
        "titanic1[\"Age\"].plot.hist()"
      ],
      "execution_count": 1272,
      "outputs": [
        {
          "output_type": "execute_result",
          "data": {
            "text/plain": [
              "<matplotlib.axes._subplots.AxesSubplot at 0x7f3d166932d0>"
            ]
          },
          "metadata": {
            "tags": []
          },
          "execution_count": 1272
        },
        {
          "output_type": "display_data",
          "data": {
            "image/png": "[encoded data removed]",
            "text/plain": [
              "<Figure size 432x288 with 1 Axes>"
            ]
          },
          "metadata": {
            "tags": [],
            "needs_background": "light"
          }
        }
      ]
    },
    {
      "cell_type": "markdown",
      "metadata": {
        "id": "P1WTdvQCcc0M"
      },
      "source": [
        " *Histograms Interpretation*\r\n",
        "\r\n",
        "*  The age ranges from 0 to 80. \r\n",
        "*  Ages between 18 and 30 are quite frequent.\r\n"
      ]
    },
    {
      "cell_type": "code",
      "metadata": {
        "colab": {
          "base_uri": "https://localhost:8080/",
          "height": 350
        },
        "id": "xQNpZqNab7fj",
        "outputId": "269f8344-f82f-4d3c-8df4-969d16f1621b"
      },
      "source": [
        "import seaborn as sns \r\n",
        "sns.boxplot(titanic1[\"Age\"],width=1)\r\n"
      ],
      "execution_count": 1273,
      "outputs": [
        {
          "output_type": "stream",
          "text": [
            "/usr/local/lib/python3.7/dist-packages/seaborn/_decorators.py:43: FutureWarning: Pass the following variable as a keyword arg: x. From version 0.12, the only valid positional argument will be `data`, and passing other arguments without an explicit keyword will result in an error or misinterpretation.\n",
            "  FutureWarning\n"
          ],
          "name": "stderr"
        },
        {
          "output_type": "execute_result",
          "data": {
            "text/plain": [
              "<matplotlib.axes._subplots.AxesSubplot at 0x7f3d165f4510>"
            ]
          },
          "metadata": {
            "tags": []
          },
          "execution_count": 1273
        },
        {
          "output_type": "display_data",
          "data": {
            "image/png": "[encoded data removed]",
            "text/plain": [
              "<Figure size 432x288 with 1 Axes>"
            ]
          },
          "metadata": {
            "tags": [],
            "needs_background": "light"
          }
        }
      ]
    },
    {
      "cell_type": "markdown",
      "metadata": {
        "id": "QcKANwgScbM0"
      },
      "source": [
        "*Box plot Information*\r\n",
        "\r\n",
        "*   ages above 55 and below 2 are considered outlier\r\n",
        "\r\n",
        "*   Maximum=55\r\n",
        "\r\n",
        "*   Minimum=2\r\n",
        "\r\n",
        "*   Median=30\r\n",
        "\r\n",
        "*   Q1=22\r\n",
        "\r\n",
        "*   Q3=35\r\n",
        "\r\n",
        "*   Interquartile Range =Q3-Q1=35-22=13\r\n",
        "\r\n"
      ]
    },
    {
      "cell_type": "code",
      "metadata": {
        "colab": {
          "base_uri": "https://localhost:8080/",
          "height": 350
        },
        "id": "e-avtFS_4FaU",
        "outputId": "04bede9e-1a75-4bae-ad8b-ab8222989ff5"
      },
      "source": [
        "sns.distplot(titanic1['Fare'])"
      ],
      "execution_count": 1274,
      "outputs": [
        {
          "output_type": "stream",
          "text": [
            "/usr/local/lib/python3.7/dist-packages/seaborn/distributions.py:2557: FutureWarning: `distplot` is a deprecated function and will be removed in a future version. Please adapt your code to use either `displot` (a figure-level function with similar flexibility) or `histplot` (an axes-level function for histograms).\n",
            "  warnings.warn(msg, FutureWarning)\n"
          ],
          "name": "stderr"
        },
        {
          "output_type": "execute_result",
          "data": {
            "text/plain": [
              "<matplotlib.axes._subplots.AxesSubplot at 0x7f3d16517a50>"
            ]
          },
          "metadata": {
            "tags": []
          },
          "execution_count": 1274
        },
        {
          "output_type": "display_data",
          "data": {
            "image/png": "[encoded data removed]",
            "text/plain": [
              "<Figure size 432x288 with 1 Axes>"
            ]
          },
          "metadata": {
            "tags": [],
            "needs_background": "light"
          }
        }
      ]
    },
    {
      "cell_type": "markdown",
      "metadata": {
        "id": "TnDFv_V45NyQ"
      },
      "source": [
        "according to the graph, we notice that the majority of passengers paid very little for their ticket with a few exceptions (500)"
      ]
    },
    {
      "cell_type": "code",
      "metadata": {
        "colab": {
          "base_uri": "https://localhost:8080/",
          "height": 350
        },
        "id": "ZgOa3Pen6paR",
        "outputId": "ebc0ad14-b38f-41a6-e8b2-0717b931df08"
      },
      "source": [
        "from scipy.stats import norm\r\n",
        "sns.distplot(titanic1[\"Survived\"],fit=norm)"
      ],
      "execution_count": 1275,
      "outputs": [
        {
          "output_type": "stream",
          "text": [
            "/usr/local/lib/python3.7/dist-packages/seaborn/distributions.py:2557: FutureWarning: `distplot` is a deprecated function and will be removed in a future version. Please adapt your code to use either `displot` (a figure-level function with similar flexibility) or `histplot` (an axes-level function for histograms).\n",
            "  warnings.warn(msg, FutureWarning)\n"
          ],
          "name": "stderr"
        },
        {
          "output_type": "execute_result",
          "data": {
            "text/plain": [
              "<matplotlib.axes._subplots.AxesSubplot at 0x7f3d164283d0>"
            ]
          },
          "metadata": {
            "tags": []
          },
          "execution_count": 1275
        },
        {
          "output_type": "display_data",
          "data": {
            "image/png": "[encoded data removed]",
            "text/plain": [
              "<Figure size 432x288 with 1 Axes>"
            ]
          },
          "metadata": {
            "tags": [],
            "needs_background": "light"
          }
        }
      ]
    },
    {
      "cell_type": "markdown",
      "metadata": {
        "id": "OGu6dAje7Mp_"
      },
      "source": [
        "we notice that there are more dead than survivors\r\n",
        "\r\n",
        "---\r\n",
        "\r\n",
        "\r\n",
        "\r\n"
      ]
    },
    {
      "cell_type": "markdown",
      "metadata": {
        "id": "4f6nuMrPth1L"
      },
      "source": [
        "**Correlation**"
      ]
    },
    {
      "cell_type": "markdown",
      "metadata": {
        "id": "o_oyqkUFtYtp"
      },
      "source": [
        "Visualize the correlation between Sex and Age in a plot of your choosing, the visualized plot should give us obvious deductions concerning the importance of age and Sex in the survival of the individuals."
      ]
    },
    {
      "cell_type": "code",
      "metadata": {
        "colab": {
          "base_uri": "https://localhost:8080/",
          "height": 400
        },
        "id": "37RtnekR8O0s",
        "outputId": "6e698c35-ca9f-4c8b-bfea-4e5e47289942"
      },
      "source": [
        "sns.catplot(x='Sex',y='Age',data=titanic1)"
      ],
      "execution_count": 1276,
      "outputs": [
        {
          "output_type": "execute_result",
          "data": {
            "text/plain": [
              "<seaborn.axisgrid.FacetGrid at 0x7f3d1643ee10>"
            ]
          },
          "metadata": {
            "tags": []
          },
          "execution_count": 1276
        },
        {
          "output_type": "display_data",
          "data": {
            "image/png": "[encoded data removed]",
            "text/plain": [
              "<Figure size 360x360 with 1 Axes>"
            ]
          },
          "metadata": {
            "tags": [],
            "needs_background": "light"
          }
        }
      ]
    },
    {
      "cell_type": "code",
      "metadata": {
        "colab": {
          "base_uri": "https://localhost:8080/",
          "height": 242
        },
        "id": "S24Rfn45g9nI",
        "outputId": "ecb9e6c7-3783-4e43-f5fe-6117a97cb557"
      },
      "source": [
        "g=sns.FacetGrid(titanic1,col=\"Sex\")\r\n",
        "g.map(plt.hist,\"Age\",bins=20)\r\n"
      ],
      "execution_count": 1277,
      "outputs": [
        {
          "output_type": "execute_result",
          "data": {
            "text/plain": [
              "<seaborn.axisgrid.FacetGrid at 0x7f3d163cbd10>"
            ]
          },
          "metadata": {
            "tags": []
          },
          "execution_count": 1277
        },
        {
          "output_type": "display_data",
          "data": {
            "image/png": "[encoded data removed]",
            "text/plain": [
              "<Figure size 432x216 with 2 Axes>"
            ]
          },
          "metadata": {
            "tags": [],
            "needs_background": "light"
          }
        }
      ]
    },
    {
      "cell_type": "code",
      "metadata": {
        "colab": {
          "base_uri": "https://localhost:8080/",
          "height": 513
        },
        "id": "wy_E9PQDde_m",
        "outputId": "426c0bf5-3498-4c88-d7a5-ae7720c43cbe"
      },
      "source": [
        "sns.jointplot('Age','Fare',data=titanic1)"
      ],
      "execution_count": 1278,
      "outputs": [
        {
          "output_type": "stream",
          "text": [
            "/usr/local/lib/python3.7/dist-packages/seaborn/_decorators.py:43: FutureWarning: Pass the following variables as keyword args: x, y. From version 0.12, the only valid positional argument will be `data`, and passing other arguments without an explicit keyword will result in an error or misinterpretation.\n",
            "  FutureWarning\n"
          ],
          "name": "stderr"
        },
        {
          "output_type": "execute_result",
          "data": {
            "text/plain": [
              "<seaborn.axisgrid.JointGrid at 0x7f3d1623a4d0>"
            ]
          },
          "metadata": {
            "tags": []
          },
          "execution_count": 1278
        },
        {
          "output_type": "display_data",
          "data": {
            "image/png": "[encoded data removed]",
            "text/plain": [
              "<Figure size 432x432 with 3 Axes>"
            ]
          },
          "metadata": {
            "tags": [],
            "needs_background": "light"
          }
        }
      ]
    },
    {
      "cell_type": "code",
      "metadata": {
        "colab": {
          "base_uri": "https://localhost:8080/",
          "height": 400
        },
        "id": "ydwuhSqwh3lg",
        "outputId": "6481355c-25c2-440b-a810-903853953193"
      },
      "source": [
        "sns.catplot(x='Pclass',y='Age',data=titanic1)"
      ],
      "execution_count": 1279,
      "outputs": [
        {
          "output_type": "execute_result",
          "data": {
            "text/plain": [
              "<seaborn.axisgrid.FacetGrid at 0x7f3d16254b10>"
            ]
          },
          "metadata": {
            "tags": []
          },
          "execution_count": 1279
        },
        {
          "output_type": "display_data",
          "data": {
            "image/png": "[encoded data removed]",
            "text/plain": [
              "<Figure size 360x360 with 1 Axes>"
            ]
          },
          "metadata": {
            "tags": [],
            "needs_background": "light"
          }
        }
      ]
    },
    {
      "cell_type": "code",
      "metadata": {
        "colab": {
          "base_uri": "https://localhost:8080/",
          "height": 400
        },
        "id": "HtKF-qoeo5D7",
        "outputId": "7b7a74be-be13-40b2-853b-9e6abbfd984e"
      },
      "source": [
        "sns.catplot(x='Pclass',y='Fare',data=titanic1)"
      ],
      "execution_count": 1280,
      "outputs": [
        {
          "output_type": "execute_result",
          "data": {
            "text/plain": [
              "<seaborn.axisgrid.FacetGrid at 0x7f3d163aeb90>"
            ]
          },
          "metadata": {
            "tags": []
          },
          "execution_count": 1280
        },
        {
          "output_type": "display_data",
          "data": {
            "image/png": "[encoded data removed]",
            "text/plain": [
              "<Figure size 360x360 with 1 Axes>"
            ]
          },
          "metadata": {
            "tags": [],
            "needs_background": "light"
          }
        }
      ]
    },
    {
      "cell_type": "markdown",
      "metadata": {
        "id": "kds9hmr6o9FV"
      },
      "source": [
        " multiple plots\r\n",
        "\r\n"
      ]
    },
    {
      "cell_type": "code",
      "metadata": {
        "colab": {
          "base_uri": "https://localhost:8080/",
          "height": 396
        },
        "id": "TCp18FGeqw7o",
        "outputId": "972f5a38-d9f6-44da-cac3-399dabbd5054"
      },
      "source": [
        "grid = sns.FacetGrid(titanic1, row='Survived', col=\"Sex\", size=2.2, aspect=1.6);\r\n",
        "grid.map(sns.barplot, 'Age', alpha=.5, ci=None);\r\n",
        "grid.add_legend();"
      ],
      "execution_count": 1281,
      "outputs": [
        {
          "output_type": "stream",
          "text": [
            "/usr/local/lib/python3.7/dist-packages/seaborn/axisgrid.py:316: UserWarning: The `size` parameter has been renamed to `height`; please update your code.\n",
            "  warnings.warn(msg, UserWarning)\n",
            "/usr/local/lib/python3.7/dist-packages/seaborn/axisgrid.py:643: UserWarning: Using the barplot function without specifying `order` is likely to produce an incorrect plot.\n",
            "  warnings.warn(warning)\n"
          ],
          "name": "stderr"
        },
        {
          "output_type": "display_data",
          "data": {
            "image/png": "[encoded data removed]",
            "text/plain": [
              "<Figure size 514.88x316.8 with 4 Axes>"
            ]
          },
          "metadata": {
            "tags": [],
            "needs_background": "light"
          }
        }
      ]
    },
    {
      "cell_type": "markdown",
      "metadata": {
        "id": "5b8PkbCntFMN"
      },
      "source": [
        "Interpretation\r\n",
        "\r\n",
        "*   men aged over 28 have all died\r\n",
        "\r\n",
        "*   Overall, the survival rate of women is higher than that of men\r\n",
        "\r\n",
        "\r\n",
        "\r\n"
      ]
    },
    {
      "cell_type": "markdown",
      "metadata": {
        "id": "FMmT5xsuwfEQ"
      },
      "source": [
        "Pick two other features and study their impact on the survival of the individuals "
      ]
    },
    {
      "cell_type": "code",
      "metadata": {
        "colab": {
          "base_uri": "https://localhost:8080/",
          "height": 296
        },
        "id": "PhOkOZNWiytY",
        "outputId": "9dd90845-aff2-443c-da89-b05a14eccb4a"
      },
      "source": [
        "sns.boxplot(x='Survived',y='Age',data=titanic1,hue='Sex')"
      ],
      "execution_count": 1282,
      "outputs": [
        {
          "output_type": "execute_result",
          "data": {
            "text/plain": [
              "<matplotlib.axes._subplots.AxesSubplot at 0x7f3d15d67850>"
            ]
          },
          "metadata": {
            "tags": []
          },
          "execution_count": 1282
        },
        {
          "output_type": "display_data",
          "data": {
            "image/png": "[encoded data removed]",
            "text/plain": [
              "<Figure size 432x288 with 1 Axes>"
            ]
          },
          "metadata": {
            "tags": [],
            "needs_background": "light"
          }
        }
      ]
    },
    {
      "cell_type": "code",
      "metadata": {
        "colab": {
          "base_uri": "https://localhost:8080/",
          "height": 413
        },
        "id": "dmeL39WEwEBQ",
        "outputId": "14b4be06-8142-4f14-a396-e485de5f8a64"
      },
      "source": [
        "grid = sns.FacetGrid(titanic1, row='Survived', col=\"Sex\", size=2.2, aspect=1.6)\r\n",
        "grid.map(sns.barplot, \"Pclass\", 'Age', alpha=.5, ci=None)\r\n",
        "grid.add_legend()"
      ],
      "execution_count": 1283,
      "outputs": [
        {
          "output_type": "stream",
          "text": [
            "/usr/local/lib/python3.7/dist-packages/seaborn/axisgrid.py:316: UserWarning: The `size` parameter has been renamed to `height`; please update your code.\n",
            "  warnings.warn(msg, UserWarning)\n",
            "/usr/local/lib/python3.7/dist-packages/seaborn/axisgrid.py:643: UserWarning: Using the barplot function without specifying `order` is likely to produce an incorrect plot.\n",
            "  warnings.warn(warning)\n"
          ],
          "name": "stderr"
        },
        {
          "output_type": "execute_result",
          "data": {
            "text/plain": [
              "<seaborn.axisgrid.FacetGrid at 0x7f3d15db5bd0>"
            ]
          },
          "metadata": {
            "tags": []
          },
          "execution_count": 1283
        },
        {
          "output_type": "display_data",
          "data": {
            "image/png": "[encoded data removed]",
            "text/plain": [
              "<Figure size 514.88x316.8 with 4 Axes>"
            ]
          },
          "metadata": {
            "tags": [],
            "needs_background": "light"
          }
        }
      ]
    },
    {
      "cell_type": "markdown",
      "metadata": {
        "id": "83mrvoFnwyJB"
      },
      "source": [
        "Interpretation\r\n",
        "\r\n"
      ]
    },
    {
      "cell_type": "markdown",
      "metadata": {
        "id": "rBF5SiUM9QpP"
      },
      "source": [
        "\r\n",
        "*  the survival rate of class 2 passengers is lower than that of other classes\r\n",
        "\r\n",
        "\r\n",
        "*  there were more deaths than survivors of male passengers in class 1 unlike women in class 1\r\n",
        "\r\n",
        "*  the survival rate of class 3 passengers is slightly lower than the death rate of the same class\r\n",
        "\r\n",
        "\r\n"
      ]
    },
    {
      "cell_type": "code",
      "metadata": {
        "colab": {
          "base_uri": "https://localhost:8080/",
          "height": 296
        },
        "id": "GEKxy-6Tjhdm",
        "outputId": "e17d21b8-8b70-487f-a2ba-2704816c5df1"
      },
      "source": [
        "sns.barplot(x='Pclass',y='Age',data=titanic1,hue='Sex')"
      ],
      "execution_count": 1284,
      "outputs": [
        {
          "output_type": "execute_result",
          "data": {
            "text/plain": [
              "<matplotlib.axes._subplots.AxesSubplot at 0x7f3d15b13990>"
            ]
          },
          "metadata": {
            "tags": []
          },
          "execution_count": 1284
        },
        {
          "output_type": "display_data",
          "data": {
            "image/png": "[encoded data removed]",
            "text/plain": [
              "<Figure size 432x288 with 1 Axes>"
            ]
          },
          "metadata": {
            "tags": [],
            "needs_background": "light"
          }
        }
      ]
    },
    {
      "cell_type": "markdown",
      "metadata": {
        "id": "4v2MKQ8xA3uU"
      },
      "source": [
        "**Try running the function**"
      ]
    },
    {
      "cell_type": "code",
      "metadata": {
        "id": "eG8wAt-6wqot"
      },
      "source": [
        "def plot_correlation_map( df ):\r\n",
        "\r\n",
        "    corr = df.corr()\r\n",
        "\r\n",
        "    s , ax = plt.subplots( figsize =( 12 , 10 ) )\r\n",
        "\r\n",
        "    cmap = sns.diverging_palette( 220 , 10 , as_cmap = True )\r\n",
        "\r\n",
        "    s = sns.heatmap(\r\n",
        "\r\n",
        "        corr, \r\n",
        "\r\n",
        "        cmap = cmap,\r\n",
        "\r\n",
        "        square=True, \r\n",
        "\r\n",
        "        cbar_kws={ 'shrink' : .9 }, \r\n",
        "\r\n",
        "        ax=ax, \r\n",
        "\r\n",
        "        annot = True, \r\n",
        "\r\n",
        "        annot_kws = { 'fontsize' : 12 }\r\n",
        "\r\n",
        "        )"
      ],
      "execution_count": 1285,
      "outputs": []
    },
    {
      "cell_type": "code",
      "metadata": {
        "colab": {
          "base_uri": "https://localhost:8080/",
          "height": 584
        },
        "id": "-VlNcrfzCJbZ",
        "outputId": "6e3ca572-a45b-47f0-da5d-88778365ed9d"
      },
      "source": [
        "plot_correlation_map( titanic1 )"
      ],
      "execution_count": 1286,
      "outputs": [
        {
          "output_type": "display_data",
          "data": {
            "image/png": "[encoded data removed]",
            "text/plain": [
              "<Figure size 864x720 with 2 Axes>"
            ]
          },
          "metadata": {
            "tags": [],
            "needs_background": "light"
          }
        }
      ]
    },
    {
      "cell_type": "markdown",
      "metadata": {
        "id": "gtwwHKlsPKA-"
      },
      "source": [
        "Ce shema nous donne des informations sur la correlation entre chaque feature et label entre eux :\r\n",
        "\r\n",
        "*   une forte correlation negative (-55% ) entre la classe (pclass) et le prix (fare )  .si on augmente la classe ,le prix diminue \r\n",
        "*   une correlation negative entre survived et pclass (-36%) .si on augmente la classe le taux de survie diminue \r\n",
        "*   une correlation positive entre le taux de survie (survived) et le prix (fare ) de l'ordre de 27% .quand le prix augente le taux de survie augmente \r\n",
        "*   une correlation positive entre parch et le prix .la presence des enfants et des parents influe positivement sur le prix \r\n",
        "*   pclass et age (-37%) ce qui signifie que si l'age augente le prix \r\n",
        "*   parch et sibsp (38%) .ces deux fea\r\n",
        "\r\n",
        "\r\n"
      ]
    },
    {
      "cell_type": "code",
      "metadata": {
        "colab": {
          "base_uri": "https://localhost:8080/",
          "height": 286
        },
        "id": "R_ws-BSvjUUT",
        "outputId": "a3bd940d-83bb-44fc-9519-313e41d05330"
      },
      "source": [
        "sns.heatmap(titanic1.corr())"
      ],
      "execution_count": 1287,
      "outputs": [
        {
          "output_type": "execute_result",
          "data": {
            "text/plain": [
              "<matplotlib.axes._subplots.AxesSubplot at 0x7f3d159c6850>"
            ]
          },
          "metadata": {
            "tags": []
          },
          "execution_count": 1287
        },
        {
          "output_type": "display_data",
          "data": {
            "image/png": "[encoded data removed]",
            "text/plain": [
              "<Figure size 432x288 with 2 Axes>"
            ]
          },
          "metadata": {
            "tags": [],
            "needs_background": "light"
          }
        }
      ]
    },
    {
      "cell_type": "code",
      "metadata": {
        "colab": {
          "base_uri": "https://localhost:8080/",
          "height": 920
        },
        "id": "lPvGp0hNjsQW",
        "outputId": "6d12a7b6-a9b3-4279-ca71-e7ac45b5106a"
      },
      "source": [
        "sns.pairplot(titanic1,hue= \"Survived\")\r\n"
      ],
      "execution_count": 1288,
      "outputs": [
        {
          "output_type": "execute_result",
          "data": {
            "text/plain": [
              "<seaborn.axisgrid.PairGrid at 0x7f3d158db210>"
            ]
          },
          "metadata": {
            "tags": []
          },
          "execution_count": 1288
        },
        {
          "output_type": "display_data",
          "data": {
            "image/png": "[encoded data removed]",
            "text/plain": [
              "<Figure size 951.875x900 with 30 Axes>"
            ]
          },
          "metadata": {
            "tags": [],
            "needs_background": "light"
          }
        }
      ]
    },
    {
      "cell_type": "markdown",
      "metadata": {
        "id": "aUePKBwSPjp8"
      },
      "source": [
        "Use the groupby function combined with the mean() to view the relation between Pclass and survived"
      ]
    },
    {
      "cell_type": "code",
      "metadata": {
        "colab": {
          "base_uri": "https://localhost:8080/",
          "height": 172
        },
        "id": "UFtEnDM0PSjy",
        "outputId": "eb11ce3d-ef90-489b-abed-e7020fdeac25"
      },
      "source": [
        "\r\n",
        "titanic1[[\"Pclass\", \"Survived\"]].groupby([\"Pclass\"], as_index=True).mean()"
      ],
      "execution_count": 1289,
      "outputs": [
        {
          "output_type": "execute_result",
          "data": {
            "text/html": [
              "<div>\n",
              "<style scoped>\n",
              "    .dataframe tbody tr th:only-of-type {\n",
              "        vertical-align: middle;\n",
              "    }\n",
              "\n",
              "    .dataframe tbody tr th {\n",
              "        vertical-align: top;\n",
              "    }\n",
              "\n",
              "    .dataframe thead th {\n",
              "        text-align: right;\n",
              "    }\n",
              "</style>\n",
              "<table border=\"1\" class=\"dataframe\">\n",
              "  <thead>\n",
              "    <tr style=\"text-align: right;\">\n",
              "      <th></th>\n",
              "      <th>Survived</th>\n",
              "    </tr>\n",
              "    <tr>\n",
              "      <th>Pclass</th>\n",
              "      <th></th>\n",
              "    </tr>\n",
              "  </thead>\n",
              "  <tbody>\n",
              "    <tr>\n",
              "      <th>1</th>\n",
              "      <td>0.652174</td>\n",
              "    </tr>\n",
              "    <tr>\n",
              "      <th>2</th>\n",
              "      <td>0.479769</td>\n",
              "    </tr>\n",
              "    <tr>\n",
              "      <th>3</th>\n",
              "      <td>0.239437</td>\n",
              "    </tr>\n",
              "  </tbody>\n",
              "</table>\n",
              "</div>"
            ],
            "text/plain": [
              "        Survived\n",
              "Pclass          \n",
              "1       0.652174\n",
              "2       0.479769\n",
              "3       0.239437"
            ]
          },
          "metadata": {
            "tags": []
          },
          "execution_count": 1289
        }
      ]
    },
    {
      "cell_type": "markdown",
      "metadata": {
        "id": "PI_tfJ0oC4qk"
      },
      "source": [
        "your task now is to create a new column called Title which contain the appropriate Title for each individual ( hint : extract the title from the column Names)"
      ]
    },
    {
      "cell_type": "code",
      "metadata": {
        "colab": {
          "base_uri": "https://localhost:8080/",
          "height": 306
        },
        "id": "1HpO31wXmeKQ",
        "outputId": "b5658ba6-9c41-41ae-b52f-c373c0759804"
      },
      "source": [
        "l = [name[name.find(',')+2: name.find('.')] for name in titanic1['Name']]\r\n",
        "titanic2=titanic1\r\n",
        "titanic2['title']=pd.DataFrame(l)\r\n",
        "titanic2.head()"
      ],
      "execution_count": 1290,
      "outputs": [
        {
          "output_type": "stream",
          "text": [
            "/usr/local/lib/python3.7/dist-packages/ipykernel_launcher.py:3: SettingWithCopyWarning: \n",
            "A value is trying to be set on a copy of a slice from a DataFrame.\n",
            "Try using .loc[row_indexer,col_indexer] = value instead\n",
            "\n",
            "See the caveats in the documentation: https://pandas.pydata.org/pandas-docs/stable/user_guide/indexing.html#returning-a-view-versus-a-copy\n",
            "  This is separate from the ipykernel package so we can avoid doing imports until\n"
          ],
          "name": "stderr"
        },
        {
          "output_type": "execute_result",
          "data": {
            "text/html": [
              "<div>\n",
              "<style scoped>\n",
              "    .dataframe tbody tr th:only-of-type {\n",
              "        vertical-align: middle;\n",
              "    }\n",
              "\n",
              "    .dataframe tbody tr th {\n",
              "        vertical-align: top;\n",
              "    }\n",
              "\n",
              "    .dataframe thead th {\n",
              "        text-align: right;\n",
              "    }\n",
              "</style>\n",
              "<table border=\"1\" class=\"dataframe\">\n",
              "  <thead>\n",
              "    <tr style=\"text-align: right;\">\n",
              "      <th></th>\n",
              "      <th>Survived</th>\n",
              "      <th>Pclass</th>\n",
              "      <th>Name</th>\n",
              "      <th>Sex</th>\n",
              "      <th>Age</th>\n",
              "      <th>SibSp</th>\n",
              "      <th>Parch</th>\n",
              "      <th>Ticket</th>\n",
              "      <th>Fare</th>\n",
              "      <th>Embarked</th>\n",
              "      <th>title</th>\n",
              "    </tr>\n",
              "  </thead>\n",
              "  <tbody>\n",
              "    <tr>\n",
              "      <th>0</th>\n",
              "      <td>0</td>\n",
              "      <td>2</td>\n",
              "      <td>Collander, Mr. Erik Gustaf</td>\n",
              "      <td>male</td>\n",
              "      <td>28.0</td>\n",
              "      <td>0</td>\n",
              "      <td>0</td>\n",
              "      <td>248740</td>\n",
              "      <td>13.0000</td>\n",
              "      <td>S</td>\n",
              "      <td>Mr</td>\n",
              "    </tr>\n",
              "    <tr>\n",
              "      <th>1</th>\n",
              "      <td>0</td>\n",
              "      <td>3</td>\n",
              "      <td>Moen, Mr. Sigurd Hansen</td>\n",
              "      <td>male</td>\n",
              "      <td>25.0</td>\n",
              "      <td>0</td>\n",
              "      <td>0</td>\n",
              "      <td>348123</td>\n",
              "      <td>7.6500</td>\n",
              "      <td>S</td>\n",
              "      <td>Mr</td>\n",
              "    </tr>\n",
              "    <tr>\n",
              "      <th>2</th>\n",
              "      <td>0</td>\n",
              "      <td>3</td>\n",
              "      <td>Jensen, Mr. Hans Peder</td>\n",
              "      <td>male</td>\n",
              "      <td>20.0</td>\n",
              "      <td>0</td>\n",
              "      <td>0</td>\n",
              "      <td>350050</td>\n",
              "      <td>7.8542</td>\n",
              "      <td>S</td>\n",
              "      <td>Mr</td>\n",
              "    </tr>\n",
              "    <tr>\n",
              "      <th>3</th>\n",
              "      <td>0</td>\n",
              "      <td>3</td>\n",
              "      <td>Palsson, Mrs. Nils (Alma Cornelia Berglund)</td>\n",
              "      <td>female</td>\n",
              "      <td>29.0</td>\n",
              "      <td>0</td>\n",
              "      <td>4</td>\n",
              "      <td>349909</td>\n",
              "      <td>21.0750</td>\n",
              "      <td>S</td>\n",
              "      <td>Mrs</td>\n",
              "    </tr>\n",
              "    <tr>\n",
              "      <th>4</th>\n",
              "      <td>0</td>\n",
              "      <td>1</td>\n",
              "      <td>Davidson, Mr. Thornton</td>\n",
              "      <td>male</td>\n",
              "      <td>31.0</td>\n",
              "      <td>1</td>\n",
              "      <td>0</td>\n",
              "      <td>F.C. 12750</td>\n",
              "      <td>52.0000</td>\n",
              "      <td>S</td>\n",
              "      <td>Mr</td>\n",
              "    </tr>\n",
              "  </tbody>\n",
              "</table>\n",
              "</div>"
            ],
            "text/plain": [
              "   Survived  Pclass  ... Embarked title\n",
              "0         0       2  ...        S    Mr\n",
              "1         0       3  ...        S    Mr\n",
              "2         0       3  ...        S    Mr\n",
              "3         0       3  ...        S   Mrs\n",
              "4         0       1  ...        S    Mr\n",
              "\n",
              "[5 rows x 11 columns]"
            ]
          },
          "metadata": {
            "tags": []
          },
          "execution_count": 1290
        }
      ]
    },
    {
      "cell_type": "code",
      "metadata": {
        "colab": {
          "base_uri": "https://localhost:8080/"
        },
        "id": "PCdluDJ-f2Ua",
        "outputId": "34fff728-7eb2-4aed-81dc-55e4b3ea8184"
      },
      "source": [
        "titanic2['title'].value_counts()"
      ],
      "execution_count": 1291,
      "outputs": [
        {
          "output_type": "execute_result",
          "data": {
            "text/plain": [
              "Mr              311\n",
              "Miss            123\n",
              "Mrs              84\n",
              "Master           29\n",
              "Dr                6\n",
              "Rev               6\n",
              "Mlle              2\n",
              "Major             2\n",
              "Jonkheer          1\n",
              "the Countess      1\n",
              "Col               1\n",
              "Ms                1\n",
              "Lady              1\n",
              "Name: title, dtype: int64"
            ]
          },
          "metadata": {
            "tags": []
          },
          "execution_count": 1291
        }
      ]
    },
    {
      "cell_type": "markdown",
      "metadata": {
        "id": "MBzfmOtWCxwj"
      },
      "source": [
        "As a final step try to drop the useless columns such as Names"
      ]
    },
    {
      "cell_type": "code",
      "metadata": {
        "colab": {
          "base_uri": "https://localhost:8080/",
          "height": 289
        },
        "id": "MLDUWr8jle7s",
        "outputId": "fd024463-c690-4650-b3b5-7a7761882d2e"
      },
      "source": [
        "titanic2.drop(['Name','Ticket','Embarked'],axis=1,inplace=True)\r\n",
        "titanic2.head()"
      ],
      "execution_count": 1292,
      "outputs": [
        {
          "output_type": "stream",
          "text": [
            "/usr/local/lib/python3.7/dist-packages/pandas/core/frame.py:4174: SettingWithCopyWarning: \n",
            "A value is trying to be set on a copy of a slice from a DataFrame\n",
            "\n",
            "See the caveats in the documentation: https://pandas.pydata.org/pandas-docs/stable/user_guide/indexing.html#returning-a-view-versus-a-copy\n",
            "  errors=errors,\n"
          ],
          "name": "stderr"
        },
        {
          "output_type": "execute_result",
          "data": {
            "text/html": [
              "<div>\n",
              "<style scoped>\n",
              "    .dataframe tbody tr th:only-of-type {\n",
              "        vertical-align: middle;\n",
              "    }\n",
              "\n",
              "    .dataframe tbody tr th {\n",
              "        vertical-align: top;\n",
              "    }\n",
              "\n",
              "    .dataframe thead th {\n",
              "        text-align: right;\n",
              "    }\n",
              "</style>\n",
              "<table border=\"1\" class=\"dataframe\">\n",
              "  <thead>\n",
              "    <tr style=\"text-align: right;\">\n",
              "      <th></th>\n",
              "      <th>Survived</th>\n",
              "      <th>Pclass</th>\n",
              "      <th>Sex</th>\n",
              "      <th>Age</th>\n",
              "      <th>SibSp</th>\n",
              "      <th>Parch</th>\n",
              "      <th>Fare</th>\n",
              "      <th>title</th>\n",
              "    </tr>\n",
              "  </thead>\n",
              "  <tbody>\n",
              "    <tr>\n",
              "      <th>0</th>\n",
              "      <td>0</td>\n",
              "      <td>2</td>\n",
              "      <td>male</td>\n",
              "      <td>28.0</td>\n",
              "      <td>0</td>\n",
              "      <td>0</td>\n",
              "      <td>13.0000</td>\n",
              "      <td>Mr</td>\n",
              "    </tr>\n",
              "    <tr>\n",
              "      <th>1</th>\n",
              "      <td>0</td>\n",
              "      <td>3</td>\n",
              "      <td>male</td>\n",
              "      <td>25.0</td>\n",
              "      <td>0</td>\n",
              "      <td>0</td>\n",
              "      <td>7.6500</td>\n",
              "      <td>Mr</td>\n",
              "    </tr>\n",
              "    <tr>\n",
              "      <th>2</th>\n",
              "      <td>0</td>\n",
              "      <td>3</td>\n",
              "      <td>male</td>\n",
              "      <td>20.0</td>\n",
              "      <td>0</td>\n",
              "      <td>0</td>\n",
              "      <td>7.8542</td>\n",
              "      <td>Mr</td>\n",
              "    </tr>\n",
              "    <tr>\n",
              "      <th>3</th>\n",
              "      <td>0</td>\n",
              "      <td>3</td>\n",
              "      <td>female</td>\n",
              "      <td>29.0</td>\n",
              "      <td>0</td>\n",
              "      <td>4</td>\n",
              "      <td>21.0750</td>\n",
              "      <td>Mrs</td>\n",
              "    </tr>\n",
              "    <tr>\n",
              "      <th>4</th>\n",
              "      <td>0</td>\n",
              "      <td>1</td>\n",
              "      <td>male</td>\n",
              "      <td>31.0</td>\n",
              "      <td>1</td>\n",
              "      <td>0</td>\n",
              "      <td>52.0000</td>\n",
              "      <td>Mr</td>\n",
              "    </tr>\n",
              "  </tbody>\n",
              "</table>\n",
              "</div>"
            ],
            "text/plain": [
              "   Survived  Pclass     Sex   Age  SibSp  Parch     Fare title\n",
              "0         0       2    male  28.0      0      0  13.0000    Mr\n",
              "1         0       3    male  25.0      0      0   7.6500    Mr\n",
              "2         0       3    male  20.0      0      0   7.8542    Mr\n",
              "3         0       3  female  29.0      0      4  21.0750   Mrs\n",
              "4         0       1    male  31.0      1      0  52.0000    Mr"
            ]
          },
          "metadata": {
            "tags": []
          },
          "execution_count": 1292
        }
      ]
    },
    {
      "cell_type": "markdown",
      "metadata": {
        "id": "F5ZopPdIdWRG"
      },
      "source": [
        "Visualize the correlation between Title and other features(e.g Sex, Fare, Age...)"
      ]
    },
    {
      "cell_type": "code",
      "metadata": {
        "colab": {
          "base_uri": "https://localhost:8080/",
          "height": 478
        },
        "id": "wnCY7-6MdXZS",
        "outputId": "10f9df9e-8832-44b5-bca1-117c576314ea"
      },
      "source": [
        "pd.crosstab(titanic2[\"title\"],titanic2[\"Sex\"])"
      ],
      "execution_count": 1293,
      "outputs": [
        {
          "output_type": "execute_result",
          "data": {
            "text/html": [
              "<div>\n",
              "<style scoped>\n",
              "    .dataframe tbody tr th:only-of-type {\n",
              "        vertical-align: middle;\n",
              "    }\n",
              "\n",
              "    .dataframe tbody tr th {\n",
              "        vertical-align: top;\n",
              "    }\n",
              "\n",
              "    .dataframe thead th {\n",
              "        text-align: right;\n",
              "    }\n",
              "</style>\n",
              "<table border=\"1\" class=\"dataframe\">\n",
              "  <thead>\n",
              "    <tr style=\"text-align: right;\">\n",
              "      <th>Sex</th>\n",
              "      <th>female</th>\n",
              "      <th>male</th>\n",
              "    </tr>\n",
              "    <tr>\n",
              "      <th>title</th>\n",
              "      <th></th>\n",
              "      <th></th>\n",
              "    </tr>\n",
              "  </thead>\n",
              "  <tbody>\n",
              "    <tr>\n",
              "      <th>Col</th>\n",
              "      <td>0</td>\n",
              "      <td>1</td>\n",
              "    </tr>\n",
              "    <tr>\n",
              "      <th>Dr</th>\n",
              "      <td>3</td>\n",
              "      <td>3</td>\n",
              "    </tr>\n",
              "    <tr>\n",
              "      <th>Jonkheer</th>\n",
              "      <td>1</td>\n",
              "      <td>0</td>\n",
              "    </tr>\n",
              "    <tr>\n",
              "      <th>Lady</th>\n",
              "      <td>0</td>\n",
              "      <td>1</td>\n",
              "    </tr>\n",
              "    <tr>\n",
              "      <th>Major</th>\n",
              "      <td>1</td>\n",
              "      <td>1</td>\n",
              "    </tr>\n",
              "    <tr>\n",
              "      <th>Master</th>\n",
              "      <td>9</td>\n",
              "      <td>20</td>\n",
              "    </tr>\n",
              "    <tr>\n",
              "      <th>Miss</th>\n",
              "      <td>36</td>\n",
              "      <td>87</td>\n",
              "    </tr>\n",
              "    <tr>\n",
              "      <th>Mlle</th>\n",
              "      <td>2</td>\n",
              "      <td>0</td>\n",
              "    </tr>\n",
              "    <tr>\n",
              "      <th>Mr</th>\n",
              "      <td>117</td>\n",
              "      <td>194</td>\n",
              "    </tr>\n",
              "    <tr>\n",
              "      <th>Mrs</th>\n",
              "      <td>24</td>\n",
              "      <td>60</td>\n",
              "    </tr>\n",
              "    <tr>\n",
              "      <th>Ms</th>\n",
              "      <td>0</td>\n",
              "      <td>1</td>\n",
              "    </tr>\n",
              "    <tr>\n",
              "      <th>Rev</th>\n",
              "      <td>3</td>\n",
              "      <td>3</td>\n",
              "    </tr>\n",
              "    <tr>\n",
              "      <th>the Countess</th>\n",
              "      <td>1</td>\n",
              "      <td>0</td>\n",
              "    </tr>\n",
              "  </tbody>\n",
              "</table>\n",
              "</div>"
            ],
            "text/plain": [
              "Sex           female  male\n",
              "title                     \n",
              "Col                0     1\n",
              "Dr                 3     3\n",
              "Jonkheer           1     0\n",
              "Lady               0     1\n",
              "Major              1     1\n",
              "Master             9    20\n",
              "Miss              36    87\n",
              "Mlle               2     0\n",
              "Mr               117   194\n",
              "Mrs               24    60\n",
              "Ms                 0     1\n",
              "Rev                3     3\n",
              "the Countess       1     0"
            ]
          },
          "metadata": {
            "tags": []
          },
          "execution_count": 1293
        }
      ]
    },
    {
      "cell_type": "code",
      "metadata": {
        "colab": {
          "base_uri": "https://localhost:8080/",
          "height": 478
        },
        "id": "m8djXtpC3H0Q",
        "outputId": "76e34a3c-7392-456c-86d2-20c82da15394"
      },
      "source": [
        "pd.crosstab(titanic2[\"title\"],titanic2[\"Pclass\"])"
      ],
      "execution_count": 1294,
      "outputs": [
        {
          "output_type": "execute_result",
          "data": {
            "text/html": [
              "<div>\n",
              "<style scoped>\n",
              "    .dataframe tbody tr th:only-of-type {\n",
              "        vertical-align: middle;\n",
              "    }\n",
              "\n",
              "    .dataframe tbody tr th {\n",
              "        vertical-align: top;\n",
              "    }\n",
              "\n",
              "    .dataframe thead th {\n",
              "        text-align: right;\n",
              "    }\n",
              "</style>\n",
              "<table border=\"1\" class=\"dataframe\">\n",
              "  <thead>\n",
              "    <tr style=\"text-align: right;\">\n",
              "      <th>Pclass</th>\n",
              "      <th>1</th>\n",
              "      <th>2</th>\n",
              "      <th>3</th>\n",
              "    </tr>\n",
              "    <tr>\n",
              "      <th>title</th>\n",
              "      <th></th>\n",
              "      <th></th>\n",
              "      <th></th>\n",
              "    </tr>\n",
              "  </thead>\n",
              "  <tbody>\n",
              "    <tr>\n",
              "      <th>Col</th>\n",
              "      <td>0</td>\n",
              "      <td>0</td>\n",
              "      <td>1</td>\n",
              "    </tr>\n",
              "    <tr>\n",
              "      <th>Dr</th>\n",
              "      <td>2</td>\n",
              "      <td>2</td>\n",
              "      <td>2</td>\n",
              "    </tr>\n",
              "    <tr>\n",
              "      <th>Jonkheer</th>\n",
              "      <td>0</td>\n",
              "      <td>1</td>\n",
              "      <td>0</td>\n",
              "    </tr>\n",
              "    <tr>\n",
              "      <th>Lady</th>\n",
              "      <td>0</td>\n",
              "      <td>0</td>\n",
              "      <td>1</td>\n",
              "    </tr>\n",
              "    <tr>\n",
              "      <th>Major</th>\n",
              "      <td>1</td>\n",
              "      <td>0</td>\n",
              "      <td>1</td>\n",
              "    </tr>\n",
              "    <tr>\n",
              "      <th>Master</th>\n",
              "      <td>6</td>\n",
              "      <td>5</td>\n",
              "      <td>18</td>\n",
              "    </tr>\n",
              "    <tr>\n",
              "      <th>Miss</th>\n",
              "      <td>28</td>\n",
              "      <td>29</td>\n",
              "      <td>66</td>\n",
              "    </tr>\n",
              "    <tr>\n",
              "      <th>Mlle</th>\n",
              "      <td>0</td>\n",
              "      <td>2</td>\n",
              "      <td>0</td>\n",
              "    </tr>\n",
              "    <tr>\n",
              "      <th>Mr</th>\n",
              "      <td>78</td>\n",
              "      <td>75</td>\n",
              "      <td>158</td>\n",
              "    </tr>\n",
              "    <tr>\n",
              "      <th>Mrs</th>\n",
              "      <td>19</td>\n",
              "      <td>23</td>\n",
              "      <td>42</td>\n",
              "    </tr>\n",
              "    <tr>\n",
              "      <th>Ms</th>\n",
              "      <td>0</td>\n",
              "      <td>1</td>\n",
              "      <td>0</td>\n",
              "    </tr>\n",
              "    <tr>\n",
              "      <th>Rev</th>\n",
              "      <td>3</td>\n",
              "      <td>1</td>\n",
              "      <td>2</td>\n",
              "    </tr>\n",
              "    <tr>\n",
              "      <th>the Countess</th>\n",
              "      <td>0</td>\n",
              "      <td>0</td>\n",
              "      <td>1</td>\n",
              "    </tr>\n",
              "  </tbody>\n",
              "</table>\n",
              "</div>"
            ],
            "text/plain": [
              "Pclass         1   2    3\n",
              "title                    \n",
              "Col            0   0    1\n",
              "Dr             2   2    2\n",
              "Jonkheer       0   1    0\n",
              "Lady           0   0    1\n",
              "Major          1   0    1\n",
              "Master         6   5   18\n",
              "Miss          28  29   66\n",
              "Mlle           0   2    0\n",
              "Mr            78  75  158\n",
              "Mrs           19  23   42\n",
              "Ms             0   1    0\n",
              "Rev            3   1    2\n",
              "the Countess   0   0    1"
            ]
          },
          "metadata": {
            "tags": []
          },
          "execution_count": 1294
        }
      ]
    },
    {
      "cell_type": "markdown",
      "metadata": {
        "id": "zXO-iOsfI_pj"
      },
      "source": [
        "on remarque que la distribution n'est pas  normale "
      ]
    },
    {
      "cell_type": "code",
      "metadata": {
        "colab": {
          "base_uri": "https://localhost:8080/",
          "height": 400
        },
        "id": "odhz2d8uehYu",
        "outputId": "bcd9d4ae-70ba-4d5d-b1af-3a1c67cc4b98"
      },
      "source": [
        "sns.catplot(x='title',y='Age',data=titanic2)"
      ],
      "execution_count": 1295,
      "outputs": [
        {
          "output_type": "execute_result",
          "data": {
            "text/plain": [
              "<seaborn.axisgrid.FacetGrid at 0x7f3d16a5ba50>"
            ]
          },
          "metadata": {
            "tags": []
          },
          "execution_count": 1295
        },
        {
          "output_type": "display_data",
          "data": {
            "image/png": "[encoded data removed]",
            "text/plain": [
              "<Figure size 360x360 with 1 Axes>"
            ]
          },
          "metadata": {
            "tags": [],
            "needs_background": "light"
          }
        }
      ]
    },
    {
      "cell_type": "code",
      "metadata": {
        "colab": {
          "base_uri": "https://localhost:8080/",
          "height": 400
        },
        "id": "fy-ZEqCeJObq",
        "outputId": "f0a16694-fda5-4b7a-a761-8ffb7529591e"
      },
      "source": [
        "sns.catplot(x='title',y='Fare',data=titanic2)"
      ],
      "execution_count": 1296,
      "outputs": [
        {
          "output_type": "execute_result",
          "data": {
            "text/plain": [
              "<seaborn.axisgrid.FacetGrid at 0x7f3d14d58210>"
            ]
          },
          "metadata": {
            "tags": []
          },
          "execution_count": 1296
        },
        {
          "output_type": "display_data",
          "data": {
            "image/png": "[encoded data removed]",
            "text/plain": [
              "<Figure size 360x360 with 1 Axes>"
            ]
          },
          "metadata": {
            "tags": [],
            "needs_background": "light"
          }
        }
      ]
    },
    {
      "cell_type": "code",
      "metadata": {
        "colab": {
          "base_uri": "https://localhost:8080/",
          "height": 466
        },
        "id": "cS8KyJpY6D7s",
        "outputId": "68a88517-7cbf-4f5c-e26f-476a28582ee2"
      },
      "source": [
        "plt.figure(figsize=(12,8))\r\n",
        "titanic2['title'].value_counts().plot.pie(autopct=\"%1.1f%%\")\r\n",
        "plt.show()"
      ],
      "execution_count": 1297,
      "outputs": [
        {
          "output_type": "display_data",
          "data": {
            "image/png": "[encoded data removed]",
            "text/plain": [
              "<Figure size 864x576 with 1 Axes>"
            ]
          },
          "metadata": {
            "tags": []
          }
        }
      ]
    },
    {
      "cell_type": "markdown",
      "metadata": {
        "id": "WRd6lfvAOesc"
      },
      "source": [
        "As you should've seen, there is a lot of titles which makes the feature not very practical, let's try to group these titles into more useful ones\r\n",
        "\r\n",
        "hint: use the following dictionary"
      ]
    },
    {
      "cell_type": "code",
      "metadata": {
        "id": "04uLwXLgOC8P"
      },
      "source": [
        "Title_Dictionary = {\r\n",
        "\r\n",
        "                    \"Capt\":       \"Officer\",\r\n",
        "\r\n",
        "                    \"Col\":        \"Officer\",\r\n",
        "\r\n",
        "                    \"Major\":      \"Officer\",\r\n",
        "\r\n",
        "                      \"Dr\":         \"Officer\",\r\n",
        "\r\n",
        "                    \"Rev\":        \"Officer\" ,\r\n",
        "\r\n",
        "                    \"Jonkheer\":   \"Royalty\",\r\n",
        "\r\n",
        "                    \"Don\":        \"Royalty\",\r\n",
        "\r\n",
        "                    \"Sir\" :       \"Royalty\",\r\n",
        "\r\n",
        "                   \"Lady\" :      \"Royalty\",\r\n",
        "\r\n",
        "                  \"the Countess\": \"Royalty\",\r\n",
        "\r\n",
        "                    \"Dona\":       \"Royalty\",\r\n",
        "\r\n",
        "                    \"Mme\":        \"Miss\",\r\n",
        "\r\n",
        "                    \"Mlle\":       \"Miss\",\r\n",
        "\r\n",
        "                    \"Miss\" :      \"Miss\",\r\n",
        "\r\n",
        "                    \"Ms\":         \"Mrs\",\r\n",
        "\r\n",
        "                    \"Mr\" :        \"Mrs\",\r\n",
        "\r\n",
        "                    \"Mrs\" :       \"Mrs\",\r\n",
        "\r\n",
        "                    \"Master\" :    \"Master\"\r\n",
        "\r\n",
        "                    }"
      ],
      "execution_count": 1298,
      "outputs": []
    },
    {
      "cell_type": "code",
      "metadata": {
        "id": "EsE53OJuTTZJ",
        "colab": {
          "base_uri": "https://localhost:8080/",
          "height": 306
        },
        "outputId": "3d7d89ba-bfbb-46e2-890e-2070473a74a2"
      },
      "source": [
        "titanic2['Statut'] = titanic2['title'].map(Title_Dictionary,titanic2[\"title\"]) \r\n",
        "titanic2.head()"
      ],
      "execution_count": 1299,
      "outputs": [
        {
          "output_type": "stream",
          "text": [
            "/usr/local/lib/python3.7/dist-packages/ipykernel_launcher.py:1: SettingWithCopyWarning: \n",
            "A value is trying to be set on a copy of a slice from a DataFrame.\n",
            "Try using .loc[row_indexer,col_indexer] = value instead\n",
            "\n",
            "See the caveats in the documentation: https://pandas.pydata.org/pandas-docs/stable/user_guide/indexing.html#returning-a-view-versus-a-copy\n",
            "  \"\"\"Entry point for launching an IPython kernel.\n"
          ],
          "name": "stderr"
        },
        {
          "output_type": "execute_result",
          "data": {
            "text/html": [
              "<div>\n",
              "<style scoped>\n",
              "    .dataframe tbody tr th:only-of-type {\n",
              "        vertical-align: middle;\n",
              "    }\n",
              "\n",
              "    .dataframe tbody tr th {\n",
              "        vertical-align: top;\n",
              "    }\n",
              "\n",
              "    .dataframe thead th {\n",
              "        text-align: right;\n",
              "    }\n",
              "</style>\n",
              "<table border=\"1\" class=\"dataframe\">\n",
              "  <thead>\n",
              "    <tr style=\"text-align: right;\">\n",
              "      <th></th>\n",
              "      <th>Survived</th>\n",
              "      <th>Pclass</th>\n",
              "      <th>Sex</th>\n",
              "      <th>Age</th>\n",
              "      <th>SibSp</th>\n",
              "      <th>Parch</th>\n",
              "      <th>Fare</th>\n",
              "      <th>title</th>\n",
              "      <th>Statut</th>\n",
              "    </tr>\n",
              "  </thead>\n",
              "  <tbody>\n",
              "    <tr>\n",
              "      <th>0</th>\n",
              "      <td>0</td>\n",
              "      <td>2</td>\n",
              "      <td>male</td>\n",
              "      <td>28.0</td>\n",
              "      <td>0</td>\n",
              "      <td>0</td>\n",
              "      <td>13.0000</td>\n",
              "      <td>Mr</td>\n",
              "      <td>Mrs</td>\n",
              "    </tr>\n",
              "    <tr>\n",
              "      <th>1</th>\n",
              "      <td>0</td>\n",
              "      <td>3</td>\n",
              "      <td>male</td>\n",
              "      <td>25.0</td>\n",
              "      <td>0</td>\n",
              "      <td>0</td>\n",
              "      <td>7.6500</td>\n",
              "      <td>Mr</td>\n",
              "      <td>Mrs</td>\n",
              "    </tr>\n",
              "    <tr>\n",
              "      <th>2</th>\n",
              "      <td>0</td>\n",
              "      <td>3</td>\n",
              "      <td>male</td>\n",
              "      <td>20.0</td>\n",
              "      <td>0</td>\n",
              "      <td>0</td>\n",
              "      <td>7.8542</td>\n",
              "      <td>Mr</td>\n",
              "      <td>Mrs</td>\n",
              "    </tr>\n",
              "    <tr>\n",
              "      <th>3</th>\n",
              "      <td>0</td>\n",
              "      <td>3</td>\n",
              "      <td>female</td>\n",
              "      <td>29.0</td>\n",
              "      <td>0</td>\n",
              "      <td>4</td>\n",
              "      <td>21.0750</td>\n",
              "      <td>Mrs</td>\n",
              "      <td>Mrs</td>\n",
              "    </tr>\n",
              "    <tr>\n",
              "      <th>4</th>\n",
              "      <td>0</td>\n",
              "      <td>1</td>\n",
              "      <td>male</td>\n",
              "      <td>31.0</td>\n",
              "      <td>1</td>\n",
              "      <td>0</td>\n",
              "      <td>52.0000</td>\n",
              "      <td>Mr</td>\n",
              "      <td>Mrs</td>\n",
              "    </tr>\n",
              "  </tbody>\n",
              "</table>\n",
              "</div>"
            ],
            "text/plain": [
              "   Survived  Pclass     Sex   Age  SibSp  Parch     Fare title Statut\n",
              "0         0       2    male  28.0      0      0  13.0000    Mr    Mrs\n",
              "1         0       3    male  25.0      0      0   7.6500    Mr    Mrs\n",
              "2         0       3    male  20.0      0      0   7.8542    Mr    Mrs\n",
              "3         0       3  female  29.0      0      4  21.0750   Mrs    Mrs\n",
              "4         0       1    male  31.0      1      0  52.0000    Mr    Mrs"
            ]
          },
          "metadata": {
            "tags": []
          },
          "execution_count": 1299
        }
      ]
    },
    {
      "cell_type": "markdown",
      "metadata": {
        "id": "G-afJBuuOhmW"
      },
      "source": [
        "let's visualize the same correlations using these new titles now."
      ]
    },
    {
      "cell_type": "code",
      "metadata": {
        "id": "I6TewD03O1kZ",
        "colab": {
          "base_uri": "https://localhost:8080/",
          "height": 466
        },
        "outputId": "b7be0ebc-c5a9-4f4a-9e8e-81334b001bf6"
      },
      "source": [
        "plt.figure(figsize=(12,8))\r\n",
        "titanic2['Statut'].value_counts().plot.pie(autopct=\"%1.1f%%\")\r\n",
        "plt.show()"
      ],
      "execution_count": 1300,
      "outputs": [
        {
          "output_type": "display_data",
          "data": {
            "image/png": "[encoded data removed]",
            "text/plain": [
              "<Figure size 864x576 with 1 Axes>"
            ]
          },
          "metadata": {
            "tags": []
          }
        }
      ]
    },
    {
      "cell_type": "markdown",
      "metadata": {
        "id": "X5NMawNrvd5Y"
      },
      "source": [
        "Finally, use the Parch and the SibSp columns to create a more useful feature, let's call it FamilySize."
      ]
    },
    {
      "cell_type": "code",
      "metadata": {
        "id": "cYkt9qJxvh_U",
        "colab": {
          "base_uri": "https://localhost:8080/",
          "height": 393
        },
        "outputId": "e2939e11-af86-468d-aab3-a8c0509a1d99"
      },
      "source": [
        "titanic2[\"FamilySize\"]=titanic2['Parch'] +titanic2['SibSp']\r\n",
        "titanic2.drop([\"SibSp\",\"Parch\"],axis=1,inplace=True)\r\n",
        "                         \r\n",
        "titanic2.head()"
      ],
      "execution_count": 1301,
      "outputs": [
        {
          "output_type": "stream",
          "text": [
            "/usr/local/lib/python3.7/dist-packages/ipykernel_launcher.py:1: SettingWithCopyWarning: \n",
            "A value is trying to be set on a copy of a slice from a DataFrame.\n",
            "Try using .loc[row_indexer,col_indexer] = value instead\n",
            "\n",
            "See the caveats in the documentation: https://pandas.pydata.org/pandas-docs/stable/user_guide/indexing.html#returning-a-view-versus-a-copy\n",
            "  \"\"\"Entry point for launching an IPython kernel.\n",
            "/usr/local/lib/python3.7/dist-packages/pandas/core/frame.py:4174: SettingWithCopyWarning: \n",
            "A value is trying to be set on a copy of a slice from a DataFrame\n",
            "\n",
            "See the caveats in the documentation: https://pandas.pydata.org/pandas-docs/stable/user_guide/indexing.html#returning-a-view-versus-a-copy\n",
            "  errors=errors,\n"
          ],
          "name": "stderr"
        },
        {
          "output_type": "execute_result",
          "data": {
            "text/html": [
              "<div>\n",
              "<style scoped>\n",
              "    .dataframe tbody tr th:only-of-type {\n",
              "        vertical-align: middle;\n",
              "    }\n",
              "\n",
              "    .dataframe tbody tr th {\n",
              "        vertical-align: top;\n",
              "    }\n",
              "\n",
              "    .dataframe thead th {\n",
              "        text-align: right;\n",
              "    }\n",
              "</style>\n",
              "<table border=\"1\" class=\"dataframe\">\n",
              "  <thead>\n",
              "    <tr style=\"text-align: right;\">\n",
              "      <th></th>\n",
              "      <th>Survived</th>\n",
              "      <th>Pclass</th>\n",
              "      <th>Sex</th>\n",
              "      <th>Age</th>\n",
              "      <th>Fare</th>\n",
              "      <th>title</th>\n",
              "      <th>Statut</th>\n",
              "      <th>FamilySize</th>\n",
              "    </tr>\n",
              "  </thead>\n",
              "  <tbody>\n",
              "    <tr>\n",
              "      <th>0</th>\n",
              "      <td>0</td>\n",
              "      <td>2</td>\n",
              "      <td>male</td>\n",
              "      <td>28.0</td>\n",
              "      <td>13.0000</td>\n",
              "      <td>Mr</td>\n",
              "      <td>Mrs</td>\n",
              "      <td>0</td>\n",
              "    </tr>\n",
              "    <tr>\n",
              "      <th>1</th>\n",
              "      <td>0</td>\n",
              "      <td>3</td>\n",
              "      <td>male</td>\n",
              "      <td>25.0</td>\n",
              "      <td>7.6500</td>\n",
              "      <td>Mr</td>\n",
              "      <td>Mrs</td>\n",
              "      <td>0</td>\n",
              "    </tr>\n",
              "    <tr>\n",
              "      <th>2</th>\n",
              "      <td>0</td>\n",
              "      <td>3</td>\n",
              "      <td>male</td>\n",
              "      <td>20.0</td>\n",
              "      <td>7.8542</td>\n",
              "      <td>Mr</td>\n",
              "      <td>Mrs</td>\n",
              "      <td>0</td>\n",
              "    </tr>\n",
              "    <tr>\n",
              "      <th>3</th>\n",
              "      <td>0</td>\n",
              "      <td>3</td>\n",
              "      <td>female</td>\n",
              "      <td>29.0</td>\n",
              "      <td>21.0750</td>\n",
              "      <td>Mrs</td>\n",
              "      <td>Mrs</td>\n",
              "      <td>4</td>\n",
              "    </tr>\n",
              "    <tr>\n",
              "      <th>4</th>\n",
              "      <td>0</td>\n",
              "      <td>1</td>\n",
              "      <td>male</td>\n",
              "      <td>31.0</td>\n",
              "      <td>52.0000</td>\n",
              "      <td>Mr</td>\n",
              "      <td>Mrs</td>\n",
              "      <td>1</td>\n",
              "    </tr>\n",
              "  </tbody>\n",
              "</table>\n",
              "</div>"
            ],
            "text/plain": [
              "   Survived  Pclass     Sex   Age     Fare title Statut  FamilySize\n",
              "0         0       2    male  28.0  13.0000    Mr    Mrs           0\n",
              "1         0       3    male  25.0   7.6500    Mr    Mrs           0\n",
              "2         0       3    male  20.0   7.8542    Mr    Mrs           0\n",
              "3         0       3  female  29.0  21.0750   Mrs    Mrs           4\n",
              "4         0       1    male  31.0  52.0000    Mr    Mrs           1"
            ]
          },
          "metadata": {
            "tags": []
          },
          "execution_count": 1301
        }
      ]
    },
    {
      "cell_type": "code",
      "metadata": {
        "id": "cQOOWmycYuuY",
        "colab": {
          "base_uri": "https://localhost:8080/",
          "height": 584
        },
        "outputId": "b09d2fa4-b5cc-4160-c5ac-bafb0e171887"
      },
      "source": [
        "plot_correlation_map( titanic2 )"
      ],
      "execution_count": 1302,
      "outputs": [
        {
          "output_type": "display_data",
          "data": {
            "image/png": "[encoded data removed]",
            "text/plain": [
              "<Figure size 864x720 with 2 Axes>"
            ]
          },
          "metadata": {
            "tags": [],
            "needs_background": "light"
          }
        }
      ]
    },
    {
      "cell_type": "markdown",
      "metadata": {
        "id": "CQD3414LZx_D"
      },
      "source": [
        "on remarque qu'il y a une correlation positive  inferieur à 5% entre la taille d'une famille et le fait de survivre ou pas .on conclue qu'au final la taille d'une famille n'influe pas beaucoup sur le fait de survivre ou pas\r\n",
        "je decide de ne pas garder cette feature "
      ]
    },
    {
      "cell_type": "code",
      "metadata": {
        "colab": {
          "base_uri": "https://localhost:8080/",
          "height": 289
        },
        "id": "Sx5P22Zt9MGP",
        "outputId": "f1a585dd-f4ac-4a42-9374-0849199bf011"
      },
      "source": [
        "titanic2.drop([\"FamilySize\",\"title\"],axis=1,inplace=True)\r\n",
        "titanic2.head()"
      ],
      "execution_count": 1303,
      "outputs": [
        {
          "output_type": "stream",
          "text": [
            "/usr/local/lib/python3.7/dist-packages/pandas/core/frame.py:4174: SettingWithCopyWarning: \n",
            "A value is trying to be set on a copy of a slice from a DataFrame\n",
            "\n",
            "See the caveats in the documentation: https://pandas.pydata.org/pandas-docs/stable/user_guide/indexing.html#returning-a-view-versus-a-copy\n",
            "  errors=errors,\n"
          ],
          "name": "stderr"
        },
        {
          "output_type": "execute_result",
          "data": {
            "text/html": [
              "<div>\n",
              "<style scoped>\n",
              "    .dataframe tbody tr th:only-of-type {\n",
              "        vertical-align: middle;\n",
              "    }\n",
              "\n",
              "    .dataframe tbody tr th {\n",
              "        vertical-align: top;\n",
              "    }\n",
              "\n",
              "    .dataframe thead th {\n",
              "        text-align: right;\n",
              "    }\n",
              "</style>\n",
              "<table border=\"1\" class=\"dataframe\">\n",
              "  <thead>\n",
              "    <tr style=\"text-align: right;\">\n",
              "      <th></th>\n",
              "      <th>Survived</th>\n",
              "      <th>Pclass</th>\n",
              "      <th>Sex</th>\n",
              "      <th>Age</th>\n",
              "      <th>Fare</th>\n",
              "      <th>Statut</th>\n",
              "    </tr>\n",
              "  </thead>\n",
              "  <tbody>\n",
              "    <tr>\n",
              "      <th>0</th>\n",
              "      <td>0</td>\n",
              "      <td>2</td>\n",
              "      <td>male</td>\n",
              "      <td>28.0</td>\n",
              "      <td>13.0000</td>\n",
              "      <td>Mrs</td>\n",
              "    </tr>\n",
              "    <tr>\n",
              "      <th>1</th>\n",
              "      <td>0</td>\n",
              "      <td>3</td>\n",
              "      <td>male</td>\n",
              "      <td>25.0</td>\n",
              "      <td>7.6500</td>\n",
              "      <td>Mrs</td>\n",
              "    </tr>\n",
              "    <tr>\n",
              "      <th>2</th>\n",
              "      <td>0</td>\n",
              "      <td>3</td>\n",
              "      <td>male</td>\n",
              "      <td>20.0</td>\n",
              "      <td>7.8542</td>\n",
              "      <td>Mrs</td>\n",
              "    </tr>\n",
              "    <tr>\n",
              "      <th>3</th>\n",
              "      <td>0</td>\n",
              "      <td>3</td>\n",
              "      <td>female</td>\n",
              "      <td>29.0</td>\n",
              "      <td>21.0750</td>\n",
              "      <td>Mrs</td>\n",
              "    </tr>\n",
              "    <tr>\n",
              "      <th>4</th>\n",
              "      <td>0</td>\n",
              "      <td>1</td>\n",
              "      <td>male</td>\n",
              "      <td>31.0</td>\n",
              "      <td>52.0000</td>\n",
              "      <td>Mrs</td>\n",
              "    </tr>\n",
              "  </tbody>\n",
              "</table>\n",
              "</div>"
            ],
            "text/plain": [
              "   Survived  Pclass     Sex   Age     Fare Statut\n",
              "0         0       2    male  28.0  13.0000    Mrs\n",
              "1         0       3    male  25.0   7.6500    Mrs\n",
              "2         0       3    male  20.0   7.8542    Mrs\n",
              "3         0       3  female  29.0  21.0750    Mrs\n",
              "4         0       1    male  31.0  52.0000    Mrs"
            ]
          },
          "metadata": {
            "tags": []
          },
          "execution_count": 1303
        }
      ]
    },
    {
      "cell_type": "code",
      "metadata": {
        "colab": {
          "base_uri": "https://localhost:8080/",
          "height": 202
        },
        "id": "lsBM19wjB7x3",
        "outputId": "800d9294-4662-4f8e-9914-51d3a7f0505c"
      },
      "source": [
        "one_hot=pd.get_dummies(titanic2[\"Statut\"])\r\n",
        "titanic_final=titanic2.join(one_hot)\r\n",
        "titanic_final.head()"
      ],
      "execution_count": 1304,
      "outputs": [
        {
          "output_type": "execute_result",
          "data": {
            "text/html": [
              "<div>\n",
              "<style scoped>\n",
              "    .dataframe tbody tr th:only-of-type {\n",
              "        vertical-align: middle;\n",
              "    }\n",
              "\n",
              "    .dataframe tbody tr th {\n",
              "        vertical-align: top;\n",
              "    }\n",
              "\n",
              "    .dataframe thead th {\n",
              "        text-align: right;\n",
              "    }\n",
              "</style>\n",
              "<table border=\"1\" class=\"dataframe\">\n",
              "  <thead>\n",
              "    <tr style=\"text-align: right;\">\n",
              "      <th></th>\n",
              "      <th>Survived</th>\n",
              "      <th>Pclass</th>\n",
              "      <th>Sex</th>\n",
              "      <th>Age</th>\n",
              "      <th>Fare</th>\n",
              "      <th>Statut</th>\n",
              "      <th>Master</th>\n",
              "      <th>Miss</th>\n",
              "      <th>Mrs</th>\n",
              "      <th>Officer</th>\n",
              "      <th>Royalty</th>\n",
              "    </tr>\n",
              "  </thead>\n",
              "  <tbody>\n",
              "    <tr>\n",
              "      <th>0</th>\n",
              "      <td>0</td>\n",
              "      <td>2</td>\n",
              "      <td>male</td>\n",
              "      <td>28.0</td>\n",
              "      <td>13.0000</td>\n",
              "      <td>Mrs</td>\n",
              "      <td>0</td>\n",
              "      <td>0</td>\n",
              "      <td>1</td>\n",
              "      <td>0</td>\n",
              "      <td>0</td>\n",
              "    </tr>\n",
              "    <tr>\n",
              "      <th>1</th>\n",
              "      <td>0</td>\n",
              "      <td>3</td>\n",
              "      <td>male</td>\n",
              "      <td>25.0</td>\n",
              "      <td>7.6500</td>\n",
              "      <td>Mrs</td>\n",
              "      <td>0</td>\n",
              "      <td>0</td>\n",
              "      <td>1</td>\n",
              "      <td>0</td>\n",
              "      <td>0</td>\n",
              "    </tr>\n",
              "    <tr>\n",
              "      <th>2</th>\n",
              "      <td>0</td>\n",
              "      <td>3</td>\n",
              "      <td>male</td>\n",
              "      <td>20.0</td>\n",
              "      <td>7.8542</td>\n",
              "      <td>Mrs</td>\n",
              "      <td>0</td>\n",
              "      <td>0</td>\n",
              "      <td>1</td>\n",
              "      <td>0</td>\n",
              "      <td>0</td>\n",
              "    </tr>\n",
              "    <tr>\n",
              "      <th>3</th>\n",
              "      <td>0</td>\n",
              "      <td>3</td>\n",
              "      <td>female</td>\n",
              "      <td>29.0</td>\n",
              "      <td>21.0750</td>\n",
              "      <td>Mrs</td>\n",
              "      <td>0</td>\n",
              "      <td>0</td>\n",
              "      <td>1</td>\n",
              "      <td>0</td>\n",
              "      <td>0</td>\n",
              "    </tr>\n",
              "    <tr>\n",
              "      <th>4</th>\n",
              "      <td>0</td>\n",
              "      <td>1</td>\n",
              "      <td>male</td>\n",
              "      <td>31.0</td>\n",
              "      <td>52.0000</td>\n",
              "      <td>Mrs</td>\n",
              "      <td>0</td>\n",
              "      <td>0</td>\n",
              "      <td>1</td>\n",
              "      <td>0</td>\n",
              "      <td>0</td>\n",
              "    </tr>\n",
              "  </tbody>\n",
              "</table>\n",
              "</div>"
            ],
            "text/plain": [
              "   Survived  Pclass     Sex   Age     Fare  ... Master  Miss  Mrs  Officer  Royalty\n",
              "0         0       2    male  28.0  13.0000  ...      0     0    1        0        0\n",
              "1         0       3    male  25.0   7.6500  ...      0     0    1        0        0\n",
              "2         0       3    male  20.0   7.8542  ...      0     0    1        0        0\n",
              "3         0       3  female  29.0  21.0750  ...      0     0    1        0        0\n",
              "4         0       1    male  31.0  52.0000  ...      0     0    1        0        0\n",
              "\n",
              "[5 rows x 11 columns]"
            ]
          },
          "metadata": {
            "tags": []
          },
          "execution_count": 1304
        }
      ]
    },
    {
      "cell_type": "code",
      "metadata": {
        "colab": {
          "base_uri": "https://localhost:8080/",
          "height": 202
        },
        "id": "OdYZnstjGqGu",
        "outputId": "437ebb6b-b684-40eb-b707-56e0763680f8"
      },
      "source": [
        "from sklearn.preprocessing import LabelEncoder\r\n",
        "encoder=LabelEncoder()\r\n",
        "titanic_final[\"Sex\"]=encoder.fit_transform(titanic_final[\"Sex\"])\r\n",
        "titanic_final.head()"
      ],
      "execution_count": 1305,
      "outputs": [
        {
          "output_type": "execute_result",
          "data": {
            "text/html": [
              "<div>\n",
              "<style scoped>\n",
              "    .dataframe tbody tr th:only-of-type {\n",
              "        vertical-align: middle;\n",
              "    }\n",
              "\n",
              "    .dataframe tbody tr th {\n",
              "        vertical-align: top;\n",
              "    }\n",
              "\n",
              "    .dataframe thead th {\n",
              "        text-align: right;\n",
              "    }\n",
              "</style>\n",
              "<table border=\"1\" class=\"dataframe\">\n",
              "  <thead>\n",
              "    <tr style=\"text-align: right;\">\n",
              "      <th></th>\n",
              "      <th>Survived</th>\n",
              "      <th>Pclass</th>\n",
              "      <th>Sex</th>\n",
              "      <th>Age</th>\n",
              "      <th>Fare</th>\n",
              "      <th>Statut</th>\n",
              "      <th>Master</th>\n",
              "      <th>Miss</th>\n",
              "      <th>Mrs</th>\n",
              "      <th>Officer</th>\n",
              "      <th>Royalty</th>\n",
              "    </tr>\n",
              "  </thead>\n",
              "  <tbody>\n",
              "    <tr>\n",
              "      <th>0</th>\n",
              "      <td>0</td>\n",
              "      <td>2</td>\n",
              "      <td>1</td>\n",
              "      <td>28.0</td>\n",
              "      <td>13.0000</td>\n",
              "      <td>Mrs</td>\n",
              "      <td>0</td>\n",
              "      <td>0</td>\n",
              "      <td>1</td>\n",
              "      <td>0</td>\n",
              "      <td>0</td>\n",
              "    </tr>\n",
              "    <tr>\n",
              "      <th>1</th>\n",
              "      <td>0</td>\n",
              "      <td>3</td>\n",
              "      <td>1</td>\n",
              "      <td>25.0</td>\n",
              "      <td>7.6500</td>\n",
              "      <td>Mrs</td>\n",
              "      <td>0</td>\n",
              "      <td>0</td>\n",
              "      <td>1</td>\n",
              "      <td>0</td>\n",
              "      <td>0</td>\n",
              "    </tr>\n",
              "    <tr>\n",
              "      <th>2</th>\n",
              "      <td>0</td>\n",
              "      <td>3</td>\n",
              "      <td>1</td>\n",
              "      <td>20.0</td>\n",
              "      <td>7.8542</td>\n",
              "      <td>Mrs</td>\n",
              "      <td>0</td>\n",
              "      <td>0</td>\n",
              "      <td>1</td>\n",
              "      <td>0</td>\n",
              "      <td>0</td>\n",
              "    </tr>\n",
              "    <tr>\n",
              "      <th>3</th>\n",
              "      <td>0</td>\n",
              "      <td>3</td>\n",
              "      <td>0</td>\n",
              "      <td>29.0</td>\n",
              "      <td>21.0750</td>\n",
              "      <td>Mrs</td>\n",
              "      <td>0</td>\n",
              "      <td>0</td>\n",
              "      <td>1</td>\n",
              "      <td>0</td>\n",
              "      <td>0</td>\n",
              "    </tr>\n",
              "    <tr>\n",
              "      <th>4</th>\n",
              "      <td>0</td>\n",
              "      <td>1</td>\n",
              "      <td>1</td>\n",
              "      <td>31.0</td>\n",
              "      <td>52.0000</td>\n",
              "      <td>Mrs</td>\n",
              "      <td>0</td>\n",
              "      <td>0</td>\n",
              "      <td>1</td>\n",
              "      <td>0</td>\n",
              "      <td>0</td>\n",
              "    </tr>\n",
              "  </tbody>\n",
              "</table>\n",
              "</div>"
            ],
            "text/plain": [
              "   Survived  Pclass  Sex   Age     Fare  ... Master  Miss  Mrs  Officer  Royalty\n",
              "0         0       2    1  28.0  13.0000  ...      0     0    1        0        0\n",
              "1         0       3    1  25.0   7.6500  ...      0     0    1        0        0\n",
              "2         0       3    1  20.0   7.8542  ...      0     0    1        0        0\n",
              "3         0       3    0  29.0  21.0750  ...      0     0    1        0        0\n",
              "4         0       1    1  31.0  52.0000  ...      0     0    1        0        0\n",
              "\n",
              "[5 rows x 11 columns]"
            ]
          },
          "metadata": {
            "tags": []
          },
          "execution_count": 1305
        }
      ]
    },
    {
      "cell_type": "code",
      "metadata": {
        "id": "HMyOLW2JHzxn"
      },
      "source": [
        ""
      ],
      "execution_count": 1305,
      "outputs": []
    },
    {
      "cell_type": "code",
      "metadata": {
        "colab": {
          "base_uri": "https://localhost:8080/",
          "height": 202
        },
        "id": "_Xc8sLwfFS5K",
        "outputId": "b3546d94-d5b4-45d2-bc87-6ba6f679003f"
      },
      "source": [
        "titanic_final.drop(\"Statut\",axis=1,inplace=True)\r\n",
        "titanic_final.head()"
      ],
      "execution_count": 1306,
      "outputs": [
        {
          "output_type": "execute_result",
          "data": {
            "text/html": [
              "<div>\n",
              "<style scoped>\n",
              "    .dataframe tbody tr th:only-of-type {\n",
              "        vertical-align: middle;\n",
              "    }\n",
              "\n",
              "    .dataframe tbody tr th {\n",
              "        vertical-align: top;\n",
              "    }\n",
              "\n",
              "    .dataframe thead th {\n",
              "        text-align: right;\n",
              "    }\n",
              "</style>\n",
              "<table border=\"1\" class=\"dataframe\">\n",
              "  <thead>\n",
              "    <tr style=\"text-align: right;\">\n",
              "      <th></th>\n",
              "      <th>Survived</th>\n",
              "      <th>Pclass</th>\n",
              "      <th>Sex</th>\n",
              "      <th>Age</th>\n",
              "      <th>Fare</th>\n",
              "      <th>Master</th>\n",
              "      <th>Miss</th>\n",
              "      <th>Mrs</th>\n",
              "      <th>Officer</th>\n",
              "      <th>Royalty</th>\n",
              "    </tr>\n",
              "  </thead>\n",
              "  <tbody>\n",
              "    <tr>\n",
              "      <th>0</th>\n",
              "      <td>0</td>\n",
              "      <td>2</td>\n",
              "      <td>1</td>\n",
              "      <td>28.0</td>\n",
              "      <td>13.0000</td>\n",
              "      <td>0</td>\n",
              "      <td>0</td>\n",
              "      <td>1</td>\n",
              "      <td>0</td>\n",
              "      <td>0</td>\n",
              "    </tr>\n",
              "    <tr>\n",
              "      <th>1</th>\n",
              "      <td>0</td>\n",
              "      <td>3</td>\n",
              "      <td>1</td>\n",
              "      <td>25.0</td>\n",
              "      <td>7.6500</td>\n",
              "      <td>0</td>\n",
              "      <td>0</td>\n",
              "      <td>1</td>\n",
              "      <td>0</td>\n",
              "      <td>0</td>\n",
              "    </tr>\n",
              "    <tr>\n",
              "      <th>2</th>\n",
              "      <td>0</td>\n",
              "      <td>3</td>\n",
              "      <td>1</td>\n",
              "      <td>20.0</td>\n",
              "      <td>7.8542</td>\n",
              "      <td>0</td>\n",
              "      <td>0</td>\n",
              "      <td>1</td>\n",
              "      <td>0</td>\n",
              "      <td>0</td>\n",
              "    </tr>\n",
              "    <tr>\n",
              "      <th>3</th>\n",
              "      <td>0</td>\n",
              "      <td>3</td>\n",
              "      <td>0</td>\n",
              "      <td>29.0</td>\n",
              "      <td>21.0750</td>\n",
              "      <td>0</td>\n",
              "      <td>0</td>\n",
              "      <td>1</td>\n",
              "      <td>0</td>\n",
              "      <td>0</td>\n",
              "    </tr>\n",
              "    <tr>\n",
              "      <th>4</th>\n",
              "      <td>0</td>\n",
              "      <td>1</td>\n",
              "      <td>1</td>\n",
              "      <td>31.0</td>\n",
              "      <td>52.0000</td>\n",
              "      <td>0</td>\n",
              "      <td>0</td>\n",
              "      <td>1</td>\n",
              "      <td>0</td>\n",
              "      <td>0</td>\n",
              "    </tr>\n",
              "  </tbody>\n",
              "</table>\n",
              "</div>"
            ],
            "text/plain": [
              "   Survived  Pclass  Sex   Age     Fare  Master  Miss  Mrs  Officer  Royalty\n",
              "0         0       2    1  28.0  13.0000       0     0    1        0        0\n",
              "1         0       3    1  25.0   7.6500       0     0    1        0        0\n",
              "2         0       3    1  20.0   7.8542       0     0    1        0        0\n",
              "3         0       3    0  29.0  21.0750       0     0    1        0        0\n",
              "4         0       1    1  31.0  52.0000       0     0    1        0        0"
            ]
          },
          "metadata": {
            "tags": []
          },
          "execution_count": 1306
        }
      ]
    }
  ]
}