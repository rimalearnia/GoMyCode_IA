{
  "nbformat": 4,
  "nbformat_minor": 0,
  "metadata": {
    "colab": {
      "name": "test python skills.ipynb",
      "provenance": [],
      "authorship_tag": "ABX9TyOuSxMEl7V7U+4BUiFRDPn/",
      "include_colab_link": true
    },
    "kernelspec": {
      "name": "python3",
      "display_name": "Python 3"
    }
  },
  "cells": [
    {
      "cell_type": "markdown",
      "metadata": {
        "id": "view-in-github",
        "colab_type": "text"
      },
      "source": [
        "<a href=\"https://colab.research.google.com/github/rimalearnia/test-python-skills/blob/main/test_python_skills.ipynb\" target=\"_parent\"><img src=\"https://colab.research.google.com/assets/colab-badge.svg\" alt=\"Open In Colab\"/></a>"
      ]
    },
    {
      "cell_type": "code",
      "metadata": {
        "id": "N4e7UrVhl1iJ"
      },
      "source": [
        ""
      ],
      "execution_count": null,
      "outputs": []
    },
    {
      "cell_type": "markdown",
      "metadata": {
        "id": "P3MXNW4pnQQQ"
      },
      "source": [
        "Question1\r\n"
      ]
    },
    {
      "cell_type": "markdown",
      "metadata": {
        "id": "0x1bPEcqqpum"
      },
      "source": [
        "Write a program which will find all such numbers which are divisible by 7 but are not a multiple of 5, between 2000 and 3200 (both included). The numbers obtained should be printed in a list."
      ]
    },
    {
      "cell_type": "code",
      "metadata": {
        "colab": {
          "base_uri": "https://localhost:8080/"
        },
        "id": "2PQ9EylKnT7Z",
        "outputId": "9f6ecbc4-8ea8-46bb-d9b1-93609bca9e44"
      },
      "source": [
        "numbers=[]\r\n",
        "for x in range(2000,3201):\r\n",
        "  if x%7==0 and x%5!=0:\r\n",
        "    numbers.append(x)\r\n",
        "print(numbers)    \r\n"
      ],
      "execution_count": null,
      "outputs": [
        {
          "output_type": "stream",
          "text": [
            "[2002, 2009, 2016, 2023, 2037, 2044, 2051, 2058, 2072, 2079, 2086, 2093, 2107, 2114, 2121, 2128, 2142, 2149, 2156, 2163, 2177, 2184, 2191, 2198, 2212, 2219, 2226, 2233, 2247, 2254, 2261, 2268, 2282, 2289, 2296, 2303, 2317, 2324, 2331, 2338, 2352, 2359, 2366, 2373, 2387, 2394, 2401, 2408, 2422, 2429, 2436, 2443, 2457, 2464, 2471, 2478, 2492, 2499, 2506, 2513, 2527, 2534, 2541, 2548, 2562, 2569, 2576, 2583, 2597, 2604, 2611, 2618, 2632, 2639, 2646, 2653, 2667, 2674, 2681, 2688, 2702, 2709, 2716, 2723, 2737, 2744, 2751, 2758, 2772, 2779, 2786, 2793, 2807, 2814, 2821, 2828, 2842, 2849, 2856, 2863, 2877, 2884, 2891, 2898, 2912, 2919, 2926, 2933, 2947, 2954, 2961, 2968, 2982, 2989, 2996, 3003, 3017, 3024, 3031, 3038, 3052, 3059, 3066, 3073, 3087, 3094, 3101, 3108, 3122, 3129, 3136, 3143, 3157, 3164, 3171, 3178, 3192, 3199]\n"
          ],
          "name": "stdout"
        }
      ]
    },
    {
      "cell_type": "code",
      "metadata": {
        "id": "VEf5toCTpo1Q"
      },
      "source": [
        ""
      ],
      "execution_count": null,
      "outputs": []
    },
    {
      "cell_type": "markdown",
      "metadata": {
        "id": "Xy_5vNr9p68F"
      },
      "source": [
        "Question 2"
      ]
    },
    {
      "cell_type": "markdown",
      "metadata": {
        "id": "Jh184_EFqxT3"
      },
      "source": [
        " Write a program which can compute the factorial of a given number. (the factorial of n is the product of all positive integers less than or equal to n). for example factorial(5)= 5 x 4 x 3 x 2 x 1 the result is 120.  (i.e. factorial (0)=1)"
      ]
    },
    {
      "cell_type": "code",
      "metadata": {
        "colab": {
          "base_uri": "https://localhost:8080/"
        },
        "id": "5EQHtJpnp9qC",
        "outputId": "5cc1e056-bf0f-4ebc-a217-a3c499c8c8a6"
      },
      "source": [
        "def factorial(x):\r\n",
        "  fact_x=1\r\n",
        "  for i in range (0,x):\r\n",
        "    fact_x=fact_x*(i+1)\r\n",
        "  return fact_x    \r\n",
        "print(factorial(5))\r\n",
        "print(factorial(0))\r\n"
      ],
      "execution_count": null,
      "outputs": [
        {
          "output_type": "stream",
          "text": [
            "120\n",
            "1\n"
          ],
          "name": "stdout"
        }
      ]
    },
    {
      "cell_type": "code",
      "metadata": {
        "id": "uGCxpaaoqPyp"
      },
      "source": [
        ""
      ],
      "execution_count": null,
      "outputs": []
    },
    {
      "cell_type": "markdown",
      "metadata": {
        "id": "sWL0w4DTNVh0"
      },
      "source": [
        "Question 3 \r\n",
        "\r\n",
        "With a given integer number n, write a program to generate a dictionary that contains (i, i*i) such that is an integral number between 1 and n (both included). and then the program should print the dictionary. Suppose the following input is supplied to the program: 8 Then, the output should be: {1: 1, 2: 4, 3: 9, 4: 16, 5: 25, 6: 36, 7: 49, 8: 64} "
      ]
    },
    {
      "cell_type": "code",
      "metadata": {
        "colab": {
          "base_uri": "https://localhost:8080/"
        },
        "id": "nrEAUqFANXMr",
        "outputId": "5c9f99d1-2175-4d6e-c8d4-91757aad9320"
      },
      "source": [
        "def square(x):\r\n",
        "  dict1={1:1}\r\n",
        "  for i in range(1,x):\r\n",
        "    dict1[i+1]=(i+1)**2\r\n",
        "  return dict1\r\n",
        "square(8)    \r\n",
        "  \r\n"
      ],
      "execution_count": null,
      "outputs": [
        {
          "output_type": "execute_result",
          "data": {
            "text/plain": [
              "{1: 1, 2: 4, 3: 9, 4: 16, 5: 25, 6: 36, 7: 49, 8: 64}"
            ]
          },
          "metadata": {
            "tags": []
          },
          "execution_count": 21
        }
      ]
    },
    {
      "cell_type": "code",
      "metadata": {
        "id": "k8yrrQUFTlki"
      },
      "source": [
        ""
      ],
      "execution_count": null,
      "outputs": []
    },
    {
      "cell_type": "markdown",
      "metadata": {
        "id": "gVEHBPolTvu5"
      },
      "source": [
        "Question 4 \r\n",
        "\r\n",
        "Given a non-empty string and an int n, return a new string where the char at index n has been removed. The value of n will be a valid index of a char in the original string (i.e. n will be in the range 0..len(str)-1 inclusive). \r\n",
        "\r\n",
        "missing_char('kitten', 1) → 'ktten'    for example here we remove \"i\" which is located in the index 1\r\n",
        "\r\n",
        "missing_char('kitten', 0) → 'itten'   here we remove \"k\" which is in the index 0\r\n",
        "\r\n",
        "missing_char('kitten', 4) → 'kittn'   here we remove \"e\" which is in the index 4"
      ]
    },
    {
      "cell_type": "code",
      "metadata": {
        "colab": {
          "base_uri": "https://localhost:8080/",
          "height": 35
        },
        "id": "09rSgIdsT1Gr",
        "outputId": "8312f424-9505-415c-81c0-c2cbbd601f6d"
      },
      "source": [
        "def missing_char(x,y):\r\n",
        "  l=list(x)\r\n",
        "  del l[y]\r\n",
        "  l2=''.join(l)\r\n",
        "  return l2\r\n",
        "missing_char('kitten',4)"
      ],
      "execution_count": null,
      "outputs": [
        {
          "output_type": "execute_result",
          "data": {
            "application/vnd.google.colaboratory.intrinsic+json": {
              "type": "string"
            },
            "text/plain": [
              "'kittn'"
            ]
          },
          "metadata": {
            "tags": []
          },
          "execution_count": 43
        }
      ]
    },
    {
      "cell_type": "code",
      "metadata": {
        "id": "ASHuSBdRivxZ"
      },
      "source": [
        ""
      ],
      "execution_count": null,
      "outputs": []
    },
    {
      "cell_type": "markdown",
      "metadata": {
        "id": "a0MfJW4OOt6G"
      },
      "source": [
        "Question 5 "
      ]
    },
    {
      "cell_type": "markdown",
      "metadata": {
        "id": "_nPxPYaYORkm"
      },
      "source": [
        "Write a NumPy program to convert a NumPy array into a Python list structure.\r\n",
        "\r\n",
        "Expected Output: \r\n",
        "\r\n",
        "Original array elements: [[0 1] [2 3] [4 5]] \r\n",
        "\r\n",
        "Array to list: [[0, 1], [2, 3], [4, 5]] \r\n",
        " \r\n",
        "\r\n",
        "Hint: we can use the to_list() function to ensure the conversion"
      ]
    },
    {
      "cell_type": "code",
      "metadata": {
        "colab": {
          "base_uri": "https://localhost:8080/"
        },
        "id": "vESUkXPqOYf-",
        "outputId": "3b43bf9c-23bc-4c03-c769-bc7d128cb463"
      },
      "source": [
        "import numpy as np \r\n",
        "matrix=np.array([[0,1],[2,3],[4,5]])\r\n",
        "matrix=list(matrix)\r\n",
        "print(matrix)"
      ],
      "execution_count": null,
      "outputs": [
        {
          "output_type": "stream",
          "text": [
            "[array([0, 1]), array([2, 3]), array([4, 5])]\n"
          ],
          "name": "stdout"
        }
      ]
    },
    {
      "cell_type": "code",
      "metadata": {
        "id": "3X8Ig-HfQc1g"
      },
      "source": [
        ""
      ],
      "execution_count": null,
      "outputs": []
    },
    {
      "cell_type": "markdown",
      "metadata": {
        "id": "X_WoxnsHaRec"
      },
      "source": [
        "Question 6\r\n",
        "\r\n",
        "Write a NumPy program to compute the covariance matrix of two given arrays. \r\n",
        "\r\n",
        "Original array1: [0 1 2] \r\n",
        "\r\n",
        "Original array2: [2 1 0] \r\n",
        "\r\n",
        "Covariance matrix of the said arrays: [[ 1. -1.] [-1. 1.]]\r\n",
        " \r\n",
        "\r\n",
        "Hint: We can use the np.cov() function to calculate the covariance between these two arrays"
      ]
    },
    {
      "cell_type": "code",
      "metadata": {
        "colab": {
          "base_uri": "https://localhost:8080/"
        },
        "id": "arIctbkSaXk4",
        "outputId": "0bdf3789-88e9-4504-e3ff-309ff84cb2aa"
      },
      "source": [
        "import numpy as np\r\n",
        "original_array_1=np.array([0,1,2])\r\n",
        "original_array_2=np.array([2,1,0])\r\n",
        "covariance=np.stack((original_array_1,original_array_2),axis=0)\r\n",
        "print(np.cov(covariance))"
      ],
      "execution_count": null,
      "outputs": [
        {
          "output_type": "stream",
          "text": [
            "[[ 1. -1.]\n",
            " [-1.  1.]]\n"
          ],
          "name": "stdout"
        }
      ]
    },
    {
      "cell_type": "markdown",
      "metadata": {
        "id": "OZZlFa5_eOFY"
      },
      "source": [
        ""
      ]
    },
    {
      "cell_type": "code",
      "metadata": {
        "id": "jzY3bro8ee0q"
      },
      "source": [
        ""
      ],
      "execution_count": null,
      "outputs": []
    },
    {
      "cell_type": "markdown",
      "metadata": {
        "id": "ZAXSraJ6eLSz"
      },
      "source": [
        ""
      ]
    },
    {
      "cell_type": "markdown",
      "metadata": {
        "id": "6-9PFLpSehnZ"
      },
      "source": [
        "Question 7\r\n",
        "\r\n",
        "Question: Write a program that calculates and prints the value according to the given formula: Q = Square root of [(2 * C * D)/H] \r\n",
        "\r\n",
        "Following are the fixed values of C and H: C is 50. H is 30. \r\n",
        "\r\n",
        "D is the variable whose values should be input to your program in a comma-separated sequence. (that means D contains more than value)\r\n",
        "\r\n",
        "Example Let's assume the following comma separated input sequence is given to the program: 100,150,180 The output of the program should be: 18,22,24 \r\n",
        "\r\n",
        "To more understand we will obtain a result for each value of D:  Q1= Square root of [(2 * C * 100)/H] =18, Q2= Square root of [(2 * C * 150)/H] = 22 and Q3 = Square root of [(2 * C * 180)/H]  = 24\r\n",
        "\r\n",
        "Hints: If the output received is in decimal form, it should be rounded off to its nearest value (for example, if the output received is 26.0, it should be printed as 26) In case of input data being supplied to the question, it should be assumed to be a console input. "
      ]
    },
    {
      "cell_type": "code",
      "metadata": {
        "id": "tvDebZXWavrP",
        "colab": {
          "base_uri": "https://localhost:8080/"
        },
        "outputId": "637b94ee-519c-4c03-cecd-277215be2f8a"
      },
      "source": [
        "import math\r\n",
        "D=input (\"Input some comma seprated sequence : \")\r\n",
        "D=D.split(\",\")\r\n",
        "print(D)\r\n",
        "C=50\r\n",
        "H=30\r\n",
        "for i in range(0,len(D)):\r\n",
        "  x=D[i]\r\n",
        "  x=int(x)\r\n",
        "  f=lambda x,C,H : math.sqrt((2*C*x)/H)\r\n",
        "  print(int(f(x,C,H)))\r\n",
        "  "
      ],
      "execution_count": null,
      "outputs": [
        {
          "output_type": "stream",
          "text": [
            "Input some comma seprated sequence : 100,150,180\n",
            "['100', '150', '180']\n",
            "18\n",
            "22\n",
            "24\n"
          ],
          "name": "stdout"
        }
      ]
    },
    {
      "cell_type": "markdown",
      "metadata": {
        "id": "ynk5LohEeHMT"
      },
      "source": [
        "\r\n"
      ]
    },
    {
      "cell_type": "code",
      "metadata": {
        "id": "4Kr0pAANeCSY",
        "colab": {
          "base_uri": "https://localhost:8080/",
          "height": 35
        },
        "outputId": "cf65aaee-f385-4ab1-a9e8-6cba9c744f3b"
      },
      "source": [
        ""
      ],
      "execution_count": 1,
      "outputs": [
        {
          "output_type": "execute_result",
          "data": {
            "application/vnd.google.colaboratory.intrinsic+json": {
              "type": "string"
            },
            "text/plain": [
              "'/content'"
            ]
          },
          "metadata": {
            "tags": []
          },
          "execution_count": 1
        }
      ]
    },
    {
      "cell_type": "code",
      "metadata": {
        "colab": {
          "base_uri": "https://localhost:8080/",
          "height": 163
        },
        "id": "ZabJDHwutRqd",
        "outputId": "9fec029c-a07d-4e8e-ec2a-426651e30d56"
      },
      "source": [
        " "
      ],
      "execution_count": 9,
      "outputs": [
        {
          "output_type": "error",
          "ename": "FileNotFoundError",
          "evalue": "ignored",
          "traceback": [
            "\u001b[0;31m---------------------------------------------------------------------------\u001b[0m",
            "\u001b[0;31mFileNotFoundError\u001b[0m                         Traceback (most recent call last)",
            "\u001b[0;32m<ipython-input-9-76ee953bdaca>\u001b[0m in \u001b[0;36m<module>\u001b[0;34m()\u001b[0m\n\u001b[0;32m----> 1\u001b[0;31m \u001b[0mos\u001b[0m\u001b[0;34m.\u001b[0m\u001b[0mchdir\u001b[0m\u001b[0;34m(\u001b[0m\u001b[0;34mr\"C:\\\\Users\\\\Rimath\\\\anaconda3\\\\envs\\\\gomycode\"\u001b[0m\u001b[0;34m)\u001b[0m\u001b[0;34m\u001b[0m\u001b[0;34m\u001b[0m\u001b[0m\n\u001b[0m",
            "\u001b[0;31mFileNotFoundError\u001b[0m: [Errno 2] No such file or directory: 'C:\\\\\\\\Users\\\\\\\\Rimath\\\\\\\\anaconda3\\\\\\\\envs\\\\\\\\gomycode'"
          ]
        }
      ]
    },
    {
      "cell_type": "code",
      "metadata": {
        "id": "pu8yLJiHu8hd"
      },
      "source": [
        ""
      ],
      "execution_count": null,
      "outputs": []
    }
  ]
}