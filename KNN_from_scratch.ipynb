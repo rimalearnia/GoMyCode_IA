{
  "nbformat": 4,
  "nbformat_minor": 0,
  "metadata": {
    "colab": {
      "name": "KNN from scratch.ipynb",
      "provenance": []
    },
    "kernelspec": {
      "name": "python3",
      "display_name": "Python 3"
    },
    "language_info": {
      "name": "python"
    }
  },
  "cells": [
    {
      "cell_type": "markdown",
      "metadata": {
        "id": "3ORT--AtcAYT"
      },
      "source": [
        "##1. Handle Data"
      ]
    },
    {
      "cell_type": "code",
      "metadata": {
        "colab": {
          "base_uri": "https://localhost:8080/"
        },
        "id": "YGYCrarn7aj1",
        "outputId": "33f6b24a-1720-4eb7-afce-c7ea970c6038"
      },
      "source": [
        "import csv\n",
        "with open('iris.data.txt', 'r') as csvfile:\n",
        "\n",
        " lines = csv.reader(csvfile)\n",
        "\n",
        " for row in lines :\n",
        "\n",
        "  print (', '.join(row))\n"
      ],
      "execution_count": 58,
      "outputs": [
        {
          "output_type": "stream",
          "text": [
            "5.1, 3.5, 1.4, 0.2, Iris-setosa\n",
            "4.9, 3.0, 1.4, 0.2, Iris-setosa\n",
            "4.7, 3.2, 1.3, 0.2, Iris-setosa\n",
            "4.6, 3.1, 1.5, 0.2, Iris-setosa\n",
            "5.0, 3.6, 1.4, 0.2, Iris-setosa\n",
            "5.4, 3.9, 1.7, 0.4, Iris-setosa\n",
            "4.6, 3.4, 1.4, 0.3, Iris-setosa\n",
            "5.0, 3.4, 1.5, 0.2, Iris-setosa\n",
            "4.4, 2.9, 1.4, 0.2, Iris-setosa\n",
            "4.9, 3.1, 1.5, 0.1, Iris-setosa\n",
            "5.4, 3.7, 1.5, 0.2, Iris-setosa\n",
            "4.8, 3.4, 1.6, 0.2, Iris-setosa\n",
            "4.8, 3.0, 1.4, 0.1, Iris-setosa\n",
            "4.3, 3.0, 1.1, 0.1, Iris-setosa\n",
            "5.8, 4.0, 1.2, 0.2, Iris-setosa\n",
            "5.7, 4.4, 1.5, 0.4, Iris-setosa\n",
            "5.4, 3.9, 1.3, 0.4, Iris-setosa\n",
            "5.1, 3.5, 1.4, 0.3, Iris-setosa\n",
            "5.7, 3.8, 1.7, 0.3, Iris-setosa\n",
            "5.1, 3.8, 1.5, 0.3, Iris-setosa\n",
            "5.4, 3.4, 1.7, 0.2, Iris-setosa\n",
            "5.1, 3.7, 1.5, 0.4, Iris-setosa\n",
            "4.6, 3.6, 1.0, 0.2, Iris-setosa\n",
            "5.1, 3.3, 1.7, 0.5, Iris-setosa\n",
            "4.8, 3.4, 1.9, 0.2, Iris-setosa\n",
            "5.0, 3.0, 1.6, 0.2, Iris-setosa\n",
            "5.0, 3.4, 1.6, 0.4, Iris-setosa\n",
            "5.2, 3.5, 1.5, 0.2, Iris-setosa\n",
            "5.2, 3.4, 1.4, 0.2, Iris-setosa\n",
            "4.7, 3.2, 1.6, 0.2, Iris-setosa\n",
            "4.8, 3.1, 1.6, 0.2, Iris-setosa\n",
            "5.4, 3.4, 1.5, 0.4, Iris-setosa\n",
            "5.2, 4.1, 1.5, 0.1, Iris-setosa\n",
            "5.5, 4.2, 1.4, 0.2, Iris-setosa\n",
            "4.9, 3.1, 1.5, 0.1, Iris-setosa\n",
            "5.0, 3.2, 1.2, 0.2, Iris-setosa\n",
            "5.5, 3.5, 1.3, 0.2, Iris-setosa\n",
            "4.9, 3.1, 1.5, 0.1, Iris-setosa\n",
            "4.4, 3.0, 1.3, 0.2, Iris-setosa\n",
            "5.1, 3.4, 1.5, 0.2, Iris-setosa\n",
            "5.0, 3.5, 1.3, 0.3, Iris-setosa\n",
            "4.5, 2.3, 1.3, 0.3, Iris-setosa\n",
            "4.4, 3.2, 1.3, 0.2, Iris-setosa\n",
            "5.0, 3.5, 1.6, 0.6, Iris-setosa\n",
            "5.1, 3.8, 1.9, 0.4, Iris-setosa\n",
            "4.8, 3.0, 1.4, 0.3, Iris-setosa\n",
            "5.1, 3.8, 1.6, 0.2, Iris-setosa\n",
            "4.6, 3.2, 1.4, 0.2, Iris-setosa\n",
            "5.3, 3.7, 1.5, 0.2, Iris-setosa\n",
            "5.0, 3.3, 1.4, 0.2, Iris-setosa\n",
            "7.0, 3.2, 4.7, 1.4, Iris-versicolor\n",
            "6.4, 3.2, 4.5, 1.5, Iris-versicolor\n",
            "6.9, 3.1, 4.9, 1.5, Iris-versicolor\n",
            "5.5, 2.3, 4.0, 1.3, Iris-versicolor\n",
            "6.5, 2.8, 4.6, 1.5, Iris-versicolor\n",
            "5.7, 2.8, 4.5, 1.3, Iris-versicolor\n",
            "6.3, 3.3, 4.7, 1.6, Iris-versicolor\n",
            "4.9, 2.4, 3.3, 1.0, Iris-versicolor\n",
            "6.6, 2.9, 4.6, 1.3, Iris-versicolor\n",
            "5.2, 2.7, 3.9, 1.4, Iris-versicolor\n",
            "5.0, 2.0, 3.5, 1.0, Iris-versicolor\n",
            "5.9, 3.0, 4.2, 1.5, Iris-versicolor\n",
            "6.0, 2.2, 4.0, 1.0, Iris-versicolor\n",
            "6.1, 2.9, 4.7, 1.4, Iris-versicolor\n",
            "5.6, 2.9, 3.6, 1.3, Iris-versicolor\n",
            "6.7, 3.1, 4.4, 1.4, Iris-versicolor\n",
            "5.6, 3.0, 4.5, 1.5, Iris-versicolor\n",
            "5.8, 2.7, 4.1, 1.0, Iris-versicolor\n",
            "6.2, 2.2, 4.5, 1.5, Iris-versicolor\n",
            "5.6, 2.5, 3.9, 1.1, Iris-versicolor\n",
            "5.9, 3.2, 4.8, 1.8, Iris-versicolor\n",
            "6.1, 2.8, 4.0, 1.3, Iris-versicolor\n",
            "6.3, 2.5, 4.9, 1.5, Iris-versicolor\n",
            "6.1, 2.8, 4.7, 1.2, Iris-versicolor\n",
            "6.4, 2.9, 4.3, 1.3, Iris-versicolor\n",
            "6.6, 3.0, 4.4, 1.4, Iris-versicolor\n",
            "6.8, 2.8, 4.8, 1.4, Iris-versicolor\n",
            "6.7, 3.0, 5.0, 1.7, Iris-versicolor\n",
            "6.0, 2.9, 4.5, 1.5, Iris-versicolor\n",
            "5.7, 2.6, 3.5, 1.0, Iris-versicolor\n",
            "5.5, 2.4, 3.8, 1.1, Iris-versicolor\n",
            "5.5, 2.4, 3.7, 1.0, Iris-versicolor\n",
            "5.8, 2.7, 3.9, 1.2, Iris-versicolor\n",
            "6.0, 2.7, 5.1, 1.6, Iris-versicolor\n",
            "5.4, 3.0, 4.5, 1.5, Iris-versicolor\n",
            "6.0, 3.4, 4.5, 1.6, Iris-versicolor\n",
            "6.7, 3.1, 4.7, 1.5, Iris-versicolor\n",
            "6.3, 2.3, 4.4, 1.3, Iris-versicolor\n",
            "5.6, 3.0, 4.1, 1.3, Iris-versicolor\n",
            "5.5, 2.5, 4.0, 1.3, Iris-versicolor\n",
            "5.5, 2.6, 4.4, 1.2, Iris-versicolor\n",
            "6.1, 3.0, 4.6, 1.4, Iris-versicolor\n",
            "5.8, 2.6, 4.0, 1.2, Iris-versicolor\n",
            "5.0, 2.3, 3.3, 1.0, Iris-versicolor\n",
            "5.6, 2.7, 4.2, 1.3, Iris-versicolor\n",
            "5.7, 3.0, 4.2, 1.2, Iris-versicolor\n",
            "5.7, 2.9, 4.2, 1.3, Iris-versicolor\n",
            "6.2, 2.9, 4.3, 1.3, Iris-versicolor\n",
            "5.1, 2.5, 3.0, 1.1, Iris-versicolor\n",
            "5.7, 2.8, 4.1, 1.3, Iris-versicolor\n",
            "6.3, 3.3, 6.0, 2.5, Iris-virginica\n",
            "5.8, 2.7, 5.1, 1.9, Iris-virginica\n",
            "7.1, 3.0, 5.9, 2.1, Iris-virginica\n",
            "6.3, 2.9, 5.6, 1.8, Iris-virginica\n",
            "6.5, 3.0, 5.8, 2.2, Iris-virginica\n",
            "7.6, 3.0, 6.6, 2.1, Iris-virginica\n",
            "4.9, 2.5, 4.5, 1.7, Iris-virginica\n",
            "7.3, 2.9, 6.3, 1.8, Iris-virginica\n",
            "6.7, 2.5, 5.8, 1.8, Iris-virginica\n",
            "7.2, 3.6, 6.1, 2.5, Iris-virginica\n",
            "6.5, 3.2, 5.1, 2.0, Iris-virginica\n",
            "6.4, 2.7, 5.3, 1.9, Iris-virginica\n",
            "6.8, 3.0, 5.5, 2.1, Iris-virginica\n",
            "5.7, 2.5, 5.0, 2.0, Iris-virginica\n",
            "5.8, 2.8, 5.1, 2.4, Iris-virginica\n",
            "6.4, 3.2, 5.3, 2.3, Iris-virginica\n",
            "6.5, 3.0, 5.5, 1.8, Iris-virginica\n",
            "7.7, 3.8, 6.7, 2.2, Iris-virginica\n",
            "7.7, 2.6, 6.9, 2.3, Iris-virginica\n",
            "6.0, 2.2, 5.0, 1.5, Iris-virginica\n",
            "6.9, 3.2, 5.7, 2.3, Iris-virginica\n",
            "5.6, 2.8, 4.9, 2.0, Iris-virginica\n",
            "7.7, 2.8, 6.7, 2.0, Iris-virginica\n",
            "6.3, 2.7, 4.9, 1.8, Iris-virginica\n",
            "6.7, 3.3, 5.7, 2.1, Iris-virginica\n",
            "7.2, 3.2, 6.0, 1.8, Iris-virginica\n",
            "6.2, 2.8, 4.8, 1.8, Iris-virginica\n",
            "6.1, 3.0, 4.9, 1.8, Iris-virginica\n",
            "6.4, 2.8, 5.6, 2.1, Iris-virginica\n",
            "7.2, 3.0, 5.8, 1.6, Iris-virginica\n",
            "7.4, 2.8, 6.1, 1.9, Iris-virginica\n",
            "7.9, 3.8, 6.4, 2.0, Iris-virginica\n",
            "6.4, 2.8, 5.6, 2.2, Iris-virginica\n",
            "6.3, 2.8, 5.1, 1.5, Iris-virginica\n",
            "6.1, 2.6, 5.6, 1.4, Iris-virginica\n",
            "7.7, 3.0, 6.1, 2.3, Iris-virginica\n",
            "6.3, 3.4, 5.6, 2.4, Iris-virginica\n",
            "6.4, 3.1, 5.5, 1.8, Iris-virginica\n",
            "6.0, 3.0, 4.8, 1.8, Iris-virginica\n",
            "6.9, 3.1, 5.4, 2.1, Iris-virginica\n",
            "6.7, 3.1, 5.6, 2.4, Iris-virginica\n",
            "6.9, 3.1, 5.1, 2.3, Iris-virginica\n",
            "5.8, 2.7, 5.1, 1.9, Iris-virginica\n",
            "6.8, 3.2, 5.9, 2.3, Iris-virginica\n",
            "6.7, 3.3, 5.7, 2.5, Iris-virginica\n",
            "6.7, 3.0, 5.2, 2.3, Iris-virginica\n",
            "6.3, 2.5, 5.0, 1.9, Iris-virginica\n",
            "6.5, 3.0, 5.2, 2.0, Iris-virginica\n",
            "6.2, 3.4, 5.4, 2.3, Iris-virginica\n",
            "5.9, 3.0, 5.1, 1.8, Iris-virginica\n"
          ],
          "name": "stdout"
        }
      ]
    },
    {
      "cell_type": "code",
      "metadata": {
        "id": "0R1Eh4V7Bi_7"
      },
      "source": [
        "#Next we need to split the data into a training dataset \n",
        "\n",
        "import csv\n",
        "\n",
        "import random\n",
        "\n",
        "def loadDataset(filename, split, trainingSet=[] , testSet=[]):\n",
        "\n",
        "  with open(filename, 'r') as csvfile:\n",
        "\n",
        "    lines = csv.reader(csvfile)\n",
        "\n",
        "    dataset = list(lines)\n",
        "\n",
        "    for x in range(len(dataset)-1):\n",
        "\n",
        "      for y in range(4):\n",
        "\n",
        "        dataset[x][y] = float(dataset[x][y])\n",
        "\n",
        "      if random.random() < split:\n",
        "\n",
        "        trainingSet.append(dataset[x])\n",
        "\n",
        "      else:\n",
        "\n",
        "        testSet.append(dataset[x])\n",
        "    return trainingSet, testSet\n"
      ],
      "execution_count": 59,
      "outputs": []
    },
    {
      "cell_type": "code",
      "metadata": {
        "colab": {
          "base_uri": "https://localhost:8080/"
        },
        "id": "LOJ8apIUBo1S",
        "outputId": "d4e124c3-8bd1-4cc0-8b28-a183cbcf16e8"
      },
      "source": [
        "#We can test this function out with our iris dataset, as follows:\n",
        "train=[]\n",
        "\n",
        "test=[]\n",
        "\n",
        "loadDataset('iris.data.txt', 0.66, train, test)\n",
        "\n",
        "print ('Train: ' + repr(len(train)))\n",
        "\n",
        "print ('Test: ' + repr(len(test)) )"
      ],
      "execution_count": 60,
      "outputs": [
        {
          "output_type": "stream",
          "text": [
            "Train: 101\n",
            "Test: 48\n"
          ],
          "name": "stdout"
        }
      ]
    },
    {
      "cell_type": "markdown",
      "metadata": {
        "id": "QWnrJfQTcWPM"
      },
      "source": [
        "##2. Similarity"
      ]
    },
    {
      "cell_type": "code",
      "metadata": {
        "id": "gj2GwEvYY8Jw"
      },
      "source": [
        "import math\n",
        "\n",
        "def euclideanDistance(instance1, instance2, length):\n",
        "\tdistance = 0.0\n",
        "\tfor i in range(length):\n",
        "\t\tdistance += (instance1[i] - instance2[i])**2\n",
        "\treturn math.sqrt(distance)"
      ],
      "execution_count": 61,
      "outputs": []
    },
    {
      "cell_type": "code",
      "metadata": {
        "colab": {
          "base_uri": "https://localhost:8080/"
        },
        "id": "qQLBbllBZ6m-",
        "outputId": "b498713e-8bb7-4c29-bded-6856a9481562"
      },
      "source": [
        "data1 = [2, 2, 2, 'a']\n",
        "\n",
        "data2 = [4, 4, 4, 'b']\n",
        "\n",
        "distance = euclideanDistance(data1, data2, 3)\n",
        "\n",
        "print ('Distance: ' + repr(distance))"
      ],
      "execution_count": 62,
      "outputs": [
        {
          "output_type": "stream",
          "text": [
            "Distance: 3.4641016151377544\n"
          ],
          "name": "stdout"
        }
      ]
    },
    {
      "cell_type": "markdown",
      "metadata": {
        "id": "Z8qHXCdPclSc"
      },
      "source": [
        "##3. Neighbors"
      ]
    },
    {
      "cell_type": "code",
      "metadata": {
        "id": "mtoUb1upaYVM"
      },
      "source": [
        "import operator\n",
        "\n",
        "def getNeighbors(trainingSet, testInstance, k):\n",
        "\n",
        " distances = []\n",
        "\n",
        " length = len(testInstance)-1\n",
        "\n",
        " for x in range(len(trainingSet)):\n",
        "\n",
        "   dist = euclideanDistance(testInstance, trainingSet[x], length)\n",
        "\n",
        "   distances.append((trainingSet[x], dist))\n",
        "\n",
        "   distances.sort(key=operator.itemgetter(1))\n",
        "\n",
        " neighbors = []\n",
        "\n",
        " for x in range(k):\n",
        "\n",
        "   neighbors.append(distances[x][0])\n",
        "\n",
        " return neighbors"
      ],
      "execution_count": 63,
      "outputs": []
    },
    {
      "cell_type": "code",
      "metadata": {
        "colab": {
          "base_uri": "https://localhost:8080/"
        },
        "id": "Jeziis12cIvY",
        "outputId": "73bc12ed-bd57-412c-c110-667bd5dce6bf"
      },
      "source": [
        "trainSet = [[2, 2, 2, 'a'], [4, 4, 4, 'b']]\n",
        "\n",
        "testInstance = [5, 5, 5]\n",
        "\n",
        "k = 1\n",
        "\n",
        "neighbors = getNeighbors(trainSet, testInstance, 1)\n",
        "\n",
        "print(neighbors)"
      ],
      "execution_count": 64,
      "outputs": [
        {
          "output_type": "stream",
          "text": [
            "[[4, 4, 4, 'b']]\n"
          ],
          "name": "stdout"
        }
      ]
    },
    {
      "cell_type": "markdown",
      "metadata": {
        "id": "-oT6mErAcvxR"
      },
      "source": [
        "##4. Response"
      ]
    },
    {
      "cell_type": "code",
      "metadata": {
        "id": "vAokad8Bcdss"
      },
      "source": [
        "import operator\n",
        "\n",
        "def getResponse(neighbors):\n",
        "  classVotes = {}\n",
        "\n",
        "  for x in range(len(neighbors)):\n",
        "\n",
        "   response = neighbors[x][-1] \n",
        "\n",
        "   if response in classVotes:\n",
        "    classVotes[response] += 1\n",
        "    print(classVotes)\n",
        "   else:\n",
        "    classVotes[response] = 1\n",
        "    print(classVotes)\n",
        " \n",
        "\n",
        "  sortedVotes = sorted(classVotes.items(), key=operator.itemgetter(1), reverse=True)\n",
        "\n",
        "  return sortedVotes[0][0]"
      ],
      "execution_count": 65,
      "outputs": []
    },
    {
      "cell_type": "code",
      "metadata": {
        "colab": {
          "base_uri": "https://localhost:8080/"
        },
        "id": "_pXU-quYj1v1",
        "outputId": "7be45be2-6d7a-4c8f-c845-ab93c68e87f2"
      },
      "source": [
        "neighbors = [[1,1,1,'a'], [2,2,2,'a'], [3,3,3,'b']]\n",
        "\n",
        "response = getResponse(neighbors)\n",
        "\n",
        "print(response)"
      ],
      "execution_count": 66,
      "outputs": [
        {
          "output_type": "stream",
          "text": [
            "{'a': 1}\n",
            "{'a': 2}\n",
            "{'a': 2, 'b': 1}\n",
            "a\n"
          ],
          "name": "stdout"
        }
      ]
    },
    {
      "cell_type": "markdown",
      "metadata": {
        "id": "6wvTFZ34c9wG"
      },
      "source": [
        "##5. Accuracy"
      ]
    },
    {
      "cell_type": "code",
      "metadata": {
        "colab": {
          "base_uri": "https://localhost:8080/"
        },
        "id": "eaom-HcNoj6T",
        "outputId": "ffd3fe67-47cb-4549-8e4e-dca6809f541d"
      },
      "source": [
        "#this function evaluates our algorithm \n",
        "def getAccuracy(testSet, predictions):\n",
        "\n",
        "  correct=0\n",
        "  for x in range(len(testSet)):\n",
        "    if testSet[x][-1] == predictions[x]:  \n",
        "      correct += 1\n",
        "\n",
        "  return (correct/float(len(testSet))) * 100.0\n",
        "\n",
        "#  We can test this function with a test dataset and predictions, as follows:\n",
        "\n",
        "testSet = [[1.0,1.0,1.0,'a'], [2.0,2.0,2.0,'a'], [3.0,3.0,3.0,'b']]\n",
        "\n",
        "predictions = ['a', 'a', 'a']\n",
        "\n",
        "accuracy = getAccuracy(testSet, predictions)\n",
        "\n",
        "print(\"accuracy=\",accuracy)"
      ],
      "execution_count": 67,
      "outputs": [
        {
          "output_type": "stream",
          "text": [
            "accuracy= 66.66666666666666\n"
          ],
          "name": "stdout"
        }
      ]
    },
    {
      "cell_type": "markdown",
      "metadata": {
        "id": "EFR4tE_wdVp1"
      },
      "source": [
        "##6. Main"
      ]
    },
    {
      "cell_type": "code",
      "metadata": {
        "id": "n-Ae6n6ysEjN",
        "colab": {
          "base_uri": "https://localhost:8080/"
        },
        "outputId": "b613dafa-f2c5-41b6-d8df-188d95e89668"
      },
      "source": [
        "#this function includes the KNN algorithm\n",
        "def main():\n",
        "  loadDataset('iris.data.txt', 0.67, train, test)\n",
        "  predictions=[]\n",
        "  for j in range(len(test)):\n",
        "    testInstance=test[j]\n",
        "    neighbors = getNeighbors(train, testInstance, 3)\n",
        "    response = getResponse(neighbors)\n",
        "    predictions.append(response)\n",
        "  accuracy=getAccuracy(test, predictions)\n",
        "  return accuracy\n",
        "\n",
        "main()"
      ],
      "execution_count": 68,
      "outputs": [
        {
          "output_type": "stream",
          "text": [
            "{'Iris-setosa': 1}\n",
            "{'Iris-setosa': 2}\n",
            "{'Iris-setosa': 3}\n",
            "{'Iris-setosa': 1}\n",
            "{'Iris-setosa': 2}\n",
            "{'Iris-setosa': 3}\n",
            "{'Iris-setosa': 1}\n",
            "{'Iris-setosa': 2}\n",
            "{'Iris-setosa': 3}\n",
            "{'Iris-setosa': 1}\n",
            "{'Iris-setosa': 2}\n",
            "{'Iris-setosa': 3}\n",
            "{'Iris-setosa': 1}\n",
            "{'Iris-setosa': 2}\n",
            "{'Iris-setosa': 3}\n",
            "{'Iris-setosa': 1}\n",
            "{'Iris-setosa': 2}\n",
            "{'Iris-setosa': 3}\n",
            "{'Iris-setosa': 1}\n",
            "{'Iris-setosa': 2}\n",
            "{'Iris-setosa': 3}\n",
            "{'Iris-setosa': 1}\n",
            "{'Iris-setosa': 2}\n",
            "{'Iris-setosa': 3}\n",
            "{'Iris-setosa': 1}\n",
            "{'Iris-setosa': 2}\n",
            "{'Iris-setosa': 3}\n",
            "{'Iris-setosa': 1}\n",
            "{'Iris-setosa': 2}\n",
            "{'Iris-setosa': 3}\n",
            "{'Iris-setosa': 1}\n",
            "{'Iris-setosa': 2}\n",
            "{'Iris-setosa': 3}\n",
            "{'Iris-setosa': 1}\n",
            "{'Iris-setosa': 2}\n",
            "{'Iris-setosa': 3}\n",
            "{'Iris-setosa': 1}\n",
            "{'Iris-setosa': 2}\n",
            "{'Iris-setosa': 3}\n",
            "{'Iris-setosa': 1}\n",
            "{'Iris-setosa': 2}\n",
            "{'Iris-setosa': 3}\n",
            "{'Iris-setosa': 1}\n",
            "{'Iris-setosa': 2}\n",
            "{'Iris-setosa': 3}\n",
            "{'Iris-versicolor': 1}\n",
            "{'Iris-versicolor': 2}\n",
            "{'Iris-versicolor': 3}\n",
            "{'Iris-versicolor': 1}\n",
            "{'Iris-versicolor': 2}\n",
            "{'Iris-versicolor': 3}\n",
            "{'Iris-versicolor': 1}\n",
            "{'Iris-versicolor': 2}\n",
            "{'Iris-versicolor': 3}\n",
            "{'Iris-versicolor': 1}\n",
            "{'Iris-versicolor': 2}\n",
            "{'Iris-versicolor': 3}\n",
            "{'Iris-versicolor': 1}\n",
            "{'Iris-versicolor': 2}\n",
            "{'Iris-versicolor': 3}\n",
            "{'Iris-versicolor': 1}\n",
            "{'Iris-versicolor': 2}\n",
            "{'Iris-versicolor': 3}\n",
            "{'Iris-versicolor': 1}\n",
            "{'Iris-versicolor': 2}\n",
            "{'Iris-versicolor': 3}\n",
            "{'Iris-versicolor': 1}\n",
            "{'Iris-versicolor': 2}\n",
            "{'Iris-versicolor': 3}\n",
            "{'Iris-versicolor': 1}\n",
            "{'Iris-versicolor': 2}\n",
            "{'Iris-versicolor': 3}\n",
            "{'Iris-virginica': 1}\n",
            "{'Iris-virginica': 2}\n",
            "{'Iris-virginica': 3}\n",
            "{'Iris-versicolor': 1}\n",
            "{'Iris-versicolor': 2}\n",
            "{'Iris-versicolor': 3}\n",
            "{'Iris-versicolor': 1}\n",
            "{'Iris-versicolor': 2}\n",
            "{'Iris-versicolor': 3}\n",
            "{'Iris-versicolor': 1}\n",
            "{'Iris-versicolor': 2}\n",
            "{'Iris-versicolor': 3}\n",
            "{'Iris-versicolor': 1}\n",
            "{'Iris-versicolor': 2}\n",
            "{'Iris-versicolor': 3}\n",
            "{'Iris-versicolor': 1}\n",
            "{'Iris-versicolor': 2}\n",
            "{'Iris-versicolor': 3}\n",
            "{'Iris-versicolor': 1}\n",
            "{'Iris-versicolor': 2}\n",
            "{'Iris-versicolor': 3}\n",
            "{'Iris-versicolor': 1}\n",
            "{'Iris-versicolor': 2}\n",
            "{'Iris-versicolor': 3}\n",
            "{'Iris-versicolor': 1}\n",
            "{'Iris-versicolor': 2}\n",
            "{'Iris-versicolor': 3}\n",
            "{'Iris-versicolor': 1}\n",
            "{'Iris-versicolor': 2}\n",
            "{'Iris-versicolor': 3}\n",
            "{'Iris-versicolor': 1}\n",
            "{'Iris-versicolor': 2}\n",
            "{'Iris-versicolor': 3}\n",
            "{'Iris-virginica': 1}\n",
            "{'Iris-virginica': 2}\n",
            "{'Iris-virginica': 3}\n",
            "{'Iris-virginica': 1}\n",
            "{'Iris-virginica': 2}\n",
            "{'Iris-virginica': 3}\n",
            "{'Iris-virginica': 1}\n",
            "{'Iris-virginica': 2}\n",
            "{'Iris-virginica': 3}\n",
            "{'Iris-virginica': 1}\n",
            "{'Iris-virginica': 2}\n",
            "{'Iris-virginica': 3}\n",
            "{'Iris-virginica': 1}\n",
            "{'Iris-virginica': 2}\n",
            "{'Iris-virginica': 3}\n",
            "{'Iris-virginica': 1}\n",
            "{'Iris-virginica': 2}\n",
            "{'Iris-virginica': 3}\n",
            "{'Iris-virginica': 1}\n",
            "{'Iris-virginica': 2}\n",
            "{'Iris-virginica': 3}\n",
            "{'Iris-virginica': 1}\n",
            "{'Iris-virginica': 2}\n",
            "{'Iris-virginica': 3}\n",
            "{'Iris-virginica': 1}\n",
            "{'Iris-virginica': 2}\n",
            "{'Iris-virginica': 3}\n",
            "{'Iris-virginica': 1}\n",
            "{'Iris-virginica': 1, 'Iris-versicolor': 1}\n",
            "{'Iris-virginica': 1, 'Iris-versicolor': 2}\n",
            "{'Iris-virginica': 1}\n",
            "{'Iris-virginica': 2}\n",
            "{'Iris-virginica': 3}\n",
            "{'Iris-virginica': 1}\n",
            "{'Iris-virginica': 2}\n",
            "{'Iris-virginica': 3}\n",
            "{'Iris-virginica': 1}\n",
            "{'Iris-virginica': 2}\n",
            "{'Iris-virginica': 3}\n",
            "{'Iris-setosa': 1}\n",
            "{'Iris-setosa': 2}\n",
            "{'Iris-setosa': 3}\n",
            "{'Iris-setosa': 1}\n",
            "{'Iris-setosa': 2}\n",
            "{'Iris-setosa': 3}\n",
            "{'Iris-setosa': 1}\n",
            "{'Iris-setosa': 2}\n",
            "{'Iris-setosa': 3}\n",
            "{'Iris-setosa': 1}\n",
            "{'Iris-setosa': 2}\n",
            "{'Iris-setosa': 3}\n",
            "{'Iris-setosa': 1}\n",
            "{'Iris-setosa': 2}\n",
            "{'Iris-setosa': 3}\n",
            "{'Iris-setosa': 1}\n",
            "{'Iris-setosa': 2}\n",
            "{'Iris-setosa': 3}\n",
            "{'Iris-setosa': 1}\n",
            "{'Iris-setosa': 2}\n",
            "{'Iris-setosa': 3}\n",
            "{'Iris-setosa': 1}\n",
            "{'Iris-setosa': 2}\n",
            "{'Iris-setosa': 3}\n",
            "{'Iris-setosa': 1}\n",
            "{'Iris-setosa': 2}\n",
            "{'Iris-setosa': 3}\n",
            "{'Iris-setosa': 1}\n",
            "{'Iris-setosa': 2}\n",
            "{'Iris-setosa': 3}\n",
            "{'Iris-setosa': 1}\n",
            "{'Iris-setosa': 2}\n",
            "{'Iris-setosa': 3}\n",
            "{'Iris-setosa': 1}\n",
            "{'Iris-setosa': 2}\n",
            "{'Iris-setosa': 3}\n",
            "{'Iris-setosa': 1}\n",
            "{'Iris-setosa': 2}\n",
            "{'Iris-setosa': 3}\n",
            "{'Iris-setosa': 1}\n",
            "{'Iris-setosa': 2}\n",
            "{'Iris-setosa': 3}\n",
            "{'Iris-setosa': 1}\n",
            "{'Iris-setosa': 2}\n",
            "{'Iris-setosa': 3}\n",
            "{'Iris-setosa': 1}\n",
            "{'Iris-setosa': 2}\n",
            "{'Iris-setosa': 3}\n",
            "{'Iris-setosa': 1}\n",
            "{'Iris-setosa': 2}\n",
            "{'Iris-setosa': 3}\n",
            "{'Iris-versicolor': 1}\n",
            "{'Iris-versicolor': 2}\n",
            "{'Iris-versicolor': 3}\n",
            "{'Iris-versicolor': 1}\n",
            "{'Iris-versicolor': 2}\n",
            "{'Iris-versicolor': 3}\n",
            "{'Iris-versicolor': 1}\n",
            "{'Iris-versicolor': 2}\n",
            "{'Iris-versicolor': 3}\n",
            "{'Iris-versicolor': 1}\n",
            "{'Iris-versicolor': 2}\n",
            "{'Iris-versicolor': 3}\n",
            "{'Iris-versicolor': 1}\n",
            "{'Iris-versicolor': 2}\n",
            "{'Iris-versicolor': 3}\n",
            "{'Iris-versicolor': 1}\n",
            "{'Iris-versicolor': 2}\n",
            "{'Iris-versicolor': 3}\n",
            "{'Iris-virginica': 1}\n",
            "{'Iris-virginica': 2}\n",
            "{'Iris-virginica': 3}\n",
            "{'Iris-versicolor': 1}\n",
            "{'Iris-versicolor': 2}\n",
            "{'Iris-versicolor': 3}\n",
            "{'Iris-versicolor': 1}\n",
            "{'Iris-versicolor': 2}\n",
            "{'Iris-versicolor': 3}\n",
            "{'Iris-versicolor': 1}\n",
            "{'Iris-versicolor': 2}\n",
            "{'Iris-versicolor': 3}\n",
            "{'Iris-versicolor': 1}\n",
            "{'Iris-versicolor': 2}\n",
            "{'Iris-versicolor': 3}\n",
            "{'Iris-versicolor': 1}\n",
            "{'Iris-versicolor': 2}\n",
            "{'Iris-versicolor': 3}\n",
            "{'Iris-versicolor': 1}\n",
            "{'Iris-versicolor': 2}\n",
            "{'Iris-versicolor': 3}\n",
            "{'Iris-versicolor': 1}\n",
            "{'Iris-versicolor': 2}\n",
            "{'Iris-versicolor': 3}\n",
            "{'Iris-versicolor': 1}\n",
            "{'Iris-versicolor': 2}\n",
            "{'Iris-versicolor': 3}\n",
            "{'Iris-versicolor': 1}\n",
            "{'Iris-versicolor': 2}\n",
            "{'Iris-versicolor': 3}\n",
            "{'Iris-versicolor': 1}\n",
            "{'Iris-versicolor': 2}\n",
            "{'Iris-versicolor': 3}\n",
            "{'Iris-virginica': 1}\n",
            "{'Iris-virginica': 2}\n",
            "{'Iris-virginica': 3}\n",
            "{'Iris-virginica': 1}\n",
            "{'Iris-virginica': 2}\n",
            "{'Iris-virginica': 3}\n",
            "{'Iris-virginica': 1}\n",
            "{'Iris-virginica': 2}\n",
            "{'Iris-virginica': 3}\n",
            "{'Iris-virginica': 1}\n",
            "{'Iris-virginica': 1, 'Iris-versicolor': 1}\n",
            "{'Iris-virginica': 1, 'Iris-versicolor': 2}\n",
            "{'Iris-virginica': 1}\n",
            "{'Iris-virginica': 2}\n",
            "{'Iris-virginica': 3}\n",
            "{'Iris-virginica': 1}\n",
            "{'Iris-virginica': 2}\n",
            "{'Iris-virginica': 3}\n",
            "{'Iris-virginica': 1}\n",
            "{'Iris-virginica': 2}\n",
            "{'Iris-virginica': 3}\n",
            "{'Iris-virginica': 1}\n",
            "{'Iris-virginica': 2}\n",
            "{'Iris-virginica': 3}\n",
            "{'Iris-virginica': 1}\n",
            "{'Iris-virginica': 2}\n",
            "{'Iris-virginica': 3}\n",
            "{'Iris-virginica': 1}\n",
            "{'Iris-virginica': 2}\n",
            "{'Iris-virginica': 3}\n",
            "{'Iris-virginica': 1}\n",
            "{'Iris-virginica': 2}\n",
            "{'Iris-virginica': 3}\n",
            "{'Iris-virginica': 1}\n",
            "{'Iris-virginica': 2}\n",
            "{'Iris-virginica': 3}\n",
            "{'Iris-virginica': 1}\n",
            "{'Iris-virginica': 2}\n",
            "{'Iris-virginica': 3}\n",
            "{'Iris-virginica': 1}\n",
            "{'Iris-virginica': 2}\n",
            "{'Iris-virginica': 3}\n",
            "{'Iris-virginica': 1}\n",
            "{'Iris-virginica': 2}\n",
            "{'Iris-virginica': 3}\n",
            "{'Iris-virginica': 1}\n",
            "{'Iris-virginica': 2}\n",
            "{'Iris-virginica': 3}\n",
            "{'Iris-virginica': 1}\n",
            "{'Iris-virginica': 2}\n",
            "{'Iris-virginica': 3}\n",
            "{'Iris-virginica': 1}\n",
            "{'Iris-virginica': 2}\n",
            "{'Iris-virginica': 3}\n",
            "{'Iris-virginica': 1}\n",
            "{'Iris-virginica': 2}\n",
            "{'Iris-virginica': 3}\n",
            "{'Iris-virginica': 1}\n",
            "{'Iris-virginica': 2}\n",
            "{'Iris-virginica': 3}\n"
          ],
          "name": "stdout"
        },
        {
          "output_type": "execute_result",
          "data": {
            "text/plain": [
              "96.07843137254902"
            ]
          },
          "metadata": {
            "tags": []
          },
          "execution_count": 68
        }
      ]
    },
    {
      "cell_type": "markdown",
      "metadata": {
        "id": "Kmmd6o-8dpGI"
      },
      "source": [
        "##8. Another distance metric : The cosine Distance"
      ]
    },
    {
      "cell_type": "code",
      "metadata": {
        "colab": {
          "base_uri": "https://localhost:8080/"
        },
        "id": "5dPQ4cW9dEsq",
        "outputId": "85018735-333f-489f-913f-abfcdc8a5169"
      },
      "source": [
        "#this function calculates the manhattan distance between two points \n",
        "def manhattanDistance(instance1, instance2, length):\n",
        "\tdistance = 0.0\n",
        "\tfor i in range(length):\n",
        "\t\tdistance += abs(instance1[i] - instance2[i])\n",
        "\treturn (distance)\n",
        "\n",
        "data1 = [2, 2, 2, 'a']\n",
        "\n",
        "data2 = [4, 4, 4, 'b']\n",
        "\n",
        "distance = manhattanDistance(data1, data2, 3)\n",
        "\n",
        "print ('Distance: ' , distance)"
      ],
      "execution_count": 69,
      "outputs": [
        {
          "output_type": "stream",
          "text": [
            "Distance:  6.0\n"
          ],
          "name": "stdout"
        }
      ]
    },
    {
      "cell_type": "markdown",
      "metadata": {
        "id": "7BrY_E6biEYk"
      },
      "source": [
        ""
      ]
    },
    {
      "cell_type": "code",
      "metadata": {
        "id": "xrJ_h9J2iCEZ"
      },
      "source": [
        "from scipy.spatial.distance import cosine\n",
        "\n",
        "def cosine_distance(instance1, instance2):\n",
        "    p1 = instance1[:-1]\n",
        "    p2 = instance2[:-1]\n",
        "    return cosine(p1, p2)"
      ],
      "execution_count": 70,
      "outputs": []
    },
    {
      "cell_type": "markdown",
      "metadata": {
        "id": "4X1b_lHfge-n"
      },
      "source": [
        "## Just for comprehension\n"
      ]
    },
    {
      "cell_type": "code",
      "metadata": {
        "colab": {
          "base_uri": "https://localhost:8080/"
        },
        "id": "NB3qSTyJw2vh",
        "outputId": "1e517086-3e1d-46e1-f6da-4a1cc2ce300e"
      },
      "source": [
        "x=[[1,2,'a'],[2,4,\"a\"],[3,5,\"b\"],[0,0,\"b\"]]\n",
        "y=[[0,1],[0,0]]\n",
        "for i in range(0,len(x)):\n",
        "  for j in range(i+1,len(x)):\n",
        "    print(x[i],x[j])\n",
        "    distance = euclideanDistance(x[i], x[j], 2)\n",
        "    print(distance)\n"
      ],
      "execution_count": 71,
      "outputs": [
        {
          "output_type": "stream",
          "text": [
            "[1, 2, 'a'] [2, 4, 'a']\n",
            "2.23606797749979\n",
            "[1, 2, 'a'] [3, 5, 'b']\n",
            "3.605551275463989\n",
            "[1, 2, 'a'] [0, 0, 'b']\n",
            "2.23606797749979\n",
            "[2, 4, 'a'] [3, 5, 'b']\n",
            "1.4142135623730951\n",
            "[2, 4, 'a'] [0, 0, 'b']\n",
            "4.47213595499958\n",
            "[3, 5, 'b'] [0, 0, 'b']\n",
            "5.830951894845301\n"
          ],
          "name": "stdout"
        }
      ]
    },
    {
      "cell_type": "code",
      "metadata": {
        "colab": {
          "base_uri": "https://localhost:8080/"
        },
        "id": "F5L0E7ma--0v",
        "outputId": "5f962fa1-793a-499d-833d-7d0f3d1708c7"
      },
      "source": [
        "x=[[1,2,'a'],[2,4,\"a\"],[3,5,\"b\"],[0,0,\"b\"]]\n",
        "y=[[0,1],[1,4]]\n",
        "resp=[]\n",
        "for j in range(len(y)):\n",
        "  neighbors = getNeighbors(x,y[j], 2)\n",
        "  print(\"neighbors\",neighbors)\n",
        "  response = getResponse(neighbors)\n",
        "  resp.append(response)\n",
        "print(resp)\n",
        "accuracy=getAccuracy(y,resp)\n",
        "print(accuracy)"
      ],
      "execution_count": 72,
      "outputs": [
        {
          "output_type": "stream",
          "text": [
            "neighbors [[0, 0, 'b'], [1, 2, 'a']]\n",
            "{'b': 1}\n",
            "{'b': 1, 'a': 1}\n",
            "neighbors [[1, 2, 'a'], [2, 4, 'a']]\n",
            "{'a': 1}\n",
            "{'a': 2}\n",
            "['b', 'a']\n",
            "0.0\n"
          ],
          "name": "stdout"
        }
      ]
    }
  ]
}